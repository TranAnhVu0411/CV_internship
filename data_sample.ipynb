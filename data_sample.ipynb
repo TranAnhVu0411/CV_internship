{
 "cells": [
  {
   "cell_type": "code",
   "execution_count": 2,
   "metadata": {},
   "outputs": [],
   "source": [
    "import os\n",
    "import pandas as pd\n",
    "import requests\n",
    "import matplotlib.pyplot as plt\n",
    "from time import sleep\n",
    "from PIL import Image\n",
    "import cv2"
   ]
  },
  {
   "cell_type": "markdown",
   "metadata": {},
   "source": [
    "# VGG Image download"
   ]
  },
  {
   "cell_type": "code",
   "execution_count": 3,
   "metadata": {},
   "outputs": [],
   "source": [
    "# Download vgg dataset https://www.robots.ox.ac.uk/~vgg/data/vgg_face/\n",
    "# Change source path and image path\n",
    "source_path = '/Users/trananhvu/Documents/CV/data/vgg_face_dataset/files/'\n",
    "image_path = '/Users/trananhvu/Documents/CV/data/image'\n",
    "if not os.path.exists(image_path):\n",
    "    os.mkdir(image_path)"
   ]
  },
  {
   "cell_type": "code",
   "execution_count": 4,
   "metadata": {},
   "outputs": [],
   "source": [
    "# Download image\n",
    "def download_image(url, name, id):\n",
    "    img_data = requests.get(url).content\n",
    "    url_image_path = os.path.join(image_path, name)\n",
    "    if not os.path.exists(url_image_path):\n",
    "        os.mkdir(url_image_path)\n",
    "    with open(os.path.join(url_image_path, id+\".jpeg\"), 'wb') as handler:\n",
    "        handler.write(img_data)\n",
    "    return os.path.join(url_image_path, id+\".jpeg\")"
   ]
  },
  {
   "cell_type": "code",
   "execution_count": 5,
   "metadata": {},
   "outputs": [],
   "source": [
    "data = {\"name\":[], \n",
    "        \"id\":[],\n",
    "        \"url\":[],\n",
    "        \"left\":[],\n",
    "        \"top\":[],\n",
    "        \"right\":[],\n",
    "        \"bottom\":[],\n",
    "        \"pose\":[],\n",
    "        \"score\":[],\n",
    "        \"curation\":[],\n",
    "        \"path\":[]}"
   ]
  },
  {
   "cell_type": "code",
   "execution_count": null,
   "metadata": {},
   "outputs": [],
   "source": [
    "def getting_img_vgg(source_path, image_path, csv_path, num_save_img):\n",
    "    for idx, i in enumerate(os.listdir(source_path)):\n",
    "        if i[:-4] in os.listdir(image_path):\n",
    "            continue\n",
    "        print(i)\n",
    "        if idx!=0:\n",
    "            df=pd.DataFrame(data)\n",
    "            df.to_csv(csv_path, index=False)\n",
    "        count=0\n",
    "        with open(os.path.join(source_path, i)) as f:\n",
    "            images = f.readlines()\n",
    "        for img in images:\n",
    "            # Nếu num_save_img bằng -1 => lấy tất cả ảnh trong data\n",
    "            if num_save_img != -1:\n",
    "                if count>=num_save_img:\n",
    "                    break\n",
    "            img = img.strip().split(\" \")\n",
    "            try:            \n",
    "                response = requests.get(img[1], stream=True)\n",
    "                if response.status_code==200:\n",
    "                    path = download_image(img[1], i[:-4], img[0])\n",
    "                    image = Image.open(path)\n",
    "                    image.verify()\n",
    "                    count+=1\n",
    "                    data[\"name\"].append(i[:-4])\n",
    "                    data[\"id\"].append(img[0])\n",
    "                    data[\"url\"].append(img[1])\n",
    "                    data[\"left\"].append(img[2])\n",
    "                    data[\"top\"].append(img[3])\n",
    "                    data[\"right\"].append(img[4])\n",
    "                    data[\"bottom\"].append(img[5])\n",
    "                    data[\"pose\"].append(img[6])\n",
    "                    data[\"score\"].append(img[7])\n",
    "                    data[\"curation\"].append(img[8])\n",
    "                    data[\"path\"].append(path)\n",
    "            except:\n",
    "                pass"
   ]
  },
  {
   "cell_type": "code",
   "execution_count": null,
   "metadata": {},
   "outputs": [],
   "source": [
    "getting_img_vgg(source_path=source_path, image_path=image_path, \n",
    "                csv_path=\"/Users/trananhvu/Documents/CV/data/vgg.csv\", num_save_img=200)"
   ]
  },
  {
   "cell_type": "markdown",
   "metadata": {},
   "source": [
    "# LWF Image Sample"
   ]
  },
  {
   "cell_type": "code",
   "execution_count": 2,
   "metadata": {},
   "outputs": [],
   "source": [
    "# Download LWF Dataset: http://vis-www.cs.umass.edu/lfw/\n",
    "path = \"/Users/trananhvu/Documents/CV/data/lfw\"\n",
    "image_num={}\n",
    "for i in os.listdir(path):\n",
    "    if i=='.DS_Store':\n",
    "        continue\n",
    "    image_num[i] = len(os.listdir(os.path.join(path, i)))"
   ]
  },
  {
   "cell_type": "code",
   "execution_count": 5,
   "metadata": {},
   "outputs": [
    {
     "name": "stdout",
     "output_type": "stream",
     "text": [
      "Salma_Hayek: 13\n",
      "Queen_Elizabeth_II: 13\n",
      "Jennifer_Aniston: 21\n",
      "Andy_Roddick: 15\n",
      "John_Paul_II: 11\n",
      "Dick_Cheney: 14\n",
      "Paul_Burrell: 11\n",
      "Spencer_Abraham: 17\n",
      "Fidel_Castro: 18\n",
      "Renee_Zellweger: 17\n",
      "Tom_Daschle: 25\n",
      "Alvaro_Uribe: 35\n",
      "Mark_Philippoussis: 11\n",
      "Angelina_Jolie: 20\n",
      "Venus_Williams: 17\n",
      "Condoleezza_Rice: 11\n",
      "Taha_Yassin_Ramadan: 15\n",
      "Richard_Myers: 18\n",
      "Eduardo_Duhalde: 14\n",
      "Tommy_Franks: 16\n",
      "Mahmoud_Abbas: 29\n",
      "Igor_Ivanov: 20\n",
      "Edmund_Stoiber: 13\n",
      "Jiang_Zemin: 20\n",
      "John_Negroponte: 31\n",
      "Harrison_Ford: 12\n",
      "Anna_Kournikova: 12\n",
      "David_Nalbandian: 14\n",
      "Carlos_Moya: 19\n",
      "Jacques_Chirac: 52\n",
      "Mohammed_Al-Douri: 15\n",
      "Rudolph_Giuliani: 26\n",
      "Gerhard_Schroeder: 109\n",
      "Jose_Maria_Aznar: 23\n",
      "Roh_Moo-hyun: 32\n",
      "Hamid_Karzai: 22\n",
      "Vladimir_Putin: 49\n",
      "Jennifer_Lopez: 21\n",
      "Julie_Gerberding: 15\n",
      "Tony_Blair: 144\n",
      "Michael_Jackson: 12\n",
      "Jack_Straw: 28\n",
      "Pete_Sampras: 22\n",
      "Tang_Jiaxuan: 11\n",
      "Amelie_Mauresmo: 21\n",
      "Bill_Clinton: 29\n",
      "John_Howard: 19\n",
      "Jeb_Bush: 12\n",
      "Nestor_Kirchner: 37\n",
      "Naomi_Watts: 22\n",
      "Michael_Schumacher: 18\n",
      "Gonzalo_Sanchez_de_Lozada: 12\n",
      "Jean_Charest: 17\n",
      "Joe_Lieberman: 13\n",
      "Kofi_Annan: 32\n",
      "Luiz_Inacio_Lula_da_Silva: 48\n",
      "Kim_Clijsters: 14\n",
      "Paul_Bremer: 20\n",
      "Carlos_Menem: 21\n",
      "Catherine_Zeta-Jones: 11\n",
      "Ann_Veneman: 11\n",
      "Pierce_Brosnan: 15\n",
      "Jackie_Chan: 13\n",
      "Winona_Ryder: 24\n",
      "Richard_Gephardt: 11\n",
      "Tom_Ridge: 33\n",
      "Jean_Chretien: 55\n",
      "Hu_Jintao: 15\n",
      "Andre_Agassi: 36\n",
      "John_Snow: 17\n",
      "David_Beckham: 31\n",
      "Donald_Rumsfeld: 121\n",
      "Laura_Bush: 41\n",
      "Arnold_Schwarzenegger: 42\n",
      "George_HW_Bush: 13\n",
      "Juan_Carlos_Ferrero: 28\n",
      "Rubens_Barrichello: 12\n",
      "Colin_Powell: 236\n",
      "Sergio_Vieira_De_Mello: 11\n",
      "James_Blake: 14\n",
      "Saddam_Hussein: 23\n",
      "Jennifer_Garner: 12\n",
      "Jiri_Novak: 11\n",
      "Ricardo_Lagos: 27\n",
      "Charles_Moose: 13\n",
      "Bill_Simon: 15\n",
      "Jeremy_Greenstock: 24\n",
      "Sergey_Lavrov: 11\n",
      "Keanu_Reeves: 12\n",
      "Mike_Weir: 11\n",
      "Lance_Armstrong: 18\n",
      "Lindsay_Davenport: 22\n",
      "Wen_Jiabao: 13\n",
      "John_Allen_Muhammad: 11\n",
      "Kim_Ryong-sung: 11\n",
      "Mahathir_Mohamad: 14\n",
      "John_Bolton: 17\n",
      "Hugo_Chavez: 71\n",
      "Nicole_Kidman: 19\n",
      "Julianne_Moore: 19\n",
      "Howard_Dean: 12\n",
      "Jennifer_Capriati: 42\n",
      "Halle_Berry: 16\n",
      "Joschka_Fischer: 19\n",
      "Tiger_Woods: 23\n",
      "Abdullah_Gul: 19\n",
      "Britney_Spears: 14\n",
      "Junichiro_Koizumi: 60\n",
      "Gloria_Macapagal_Arroyo: 44\n",
      "Bill_Gates: 17\n",
      "Lucio_Gutierrez: 13\n",
      "Alejandro_Toledo: 39\n",
      "Hans_Blix: 39\n",
      "Tim_Henman: 19\n",
      "Ariel_Sharon: 77\n",
      "Recep_Tayyip_Erdogan: 30\n",
      "Yoriko_Kawaguchi: 14\n",
      "George_Robertson: 22\n",
      "Meryl_Streep: 15\n",
      "Vicente_Fox: 32\n",
      "Gordon_Brown: 13\n",
      "George_W_Bush: 530\n",
      "Silvio_Berlusconi: 33\n",
      "Norah_Jones: 15\n",
      "Michael_Bloomberg: 20\n",
      "Adrien_Brody: 12\n",
      "Atal_Bihari_Vajpayee: 24\n",
      "Nicanor_Duarte_Frutos: 11\n",
      "Serena_Williams: 52\n",
      "Hillary_Clinton: 14\n",
      "Megawati_Sukarnoputri: 33\n",
      "John_Kerry: 17\n",
      "Gray_Davis: 26\n",
      "Ari_Fleischer: 13\n",
      "Guillermo_Coria: 30\n",
      "Nancy_Pelosi: 15\n",
      "Pervez_Musharraf: 18\n",
      "James_Kelly: 11\n",
      "Trent_Lott: 16\n",
      "Lleyton_Hewitt: 41\n",
      "John_Ashcroft: 53\n",
      "Dominique_de_Villepin: 15\n",
      "Roger_Federer: 14\n"
     ]
    }
   ],
   "source": [
    "# Ta xem xét và lấy những nhân vật có ảnh lớn hơn 10\n",
    "for name, num  in image_num.items():\n",
    "    if num>10:\n",
    "        print(name+\": \"+str(num))"
   ]
  },
  {
   "cell_type": "code",
   "execution_count": 6,
   "metadata": {},
   "outputs": [
    {
     "name": "stdout",
     "output_type": "stream",
     "text": [
      "Queen_Elizabeth_II: 13\n",
      "Spencer_Abraham: 17\n",
      "Fidel_Castro: 18\n",
      "Igor_Ivanov: 20\n",
      "Vladimir_Putin: 49\n",
      "Bill_Clinton: 29\n",
      "John_Howard: 19\n",
      "Jeb_Bush: 12\n",
      "George_HW_Bush: 13\n",
      "George_W_Bush: 530\n",
      "Hillary_Clinton: 14\n",
      "John_Kerry: 17\n"
     ]
    }
   ],
   "source": [
    "# Ta sẽ lấy ảnh của các chính trị gia\n",
    "candidate = [\"Vladimir_Putin\", \"Queen_Elizabeth_II\", \"Igor_Ivanov\", \"Spencer_Abraham\", \"Fidel_Castro\", \"Jeb_Bush\", \n",
    "             \"Bill_Clinton\", \"John_Howard\", \"George_HW_Bush\", \"George_W_Bush\", \"Hillary_Clinton\", \"John_Kerry\"]\n",
    "for name, num  in image_num.items():\n",
    "    if name in candidate:\n",
    "        print(name+\": \"+str(num))"
   ]
  },
  {
   "cell_type": "markdown",
   "metadata": {},
   "source": [
    "Do George_W_Bush có nhiều ảnh hơn những người khác => ta sẽ chỉ lấy 20 ảnh đầu của ông\n",
    "\n",
    "Ta lưu ảnh của những người này vào trong file sample"
   ]
  }
 ],
 "metadata": {
  "kernelspec": {
   "display_name": "Python 3.9.12 ('venv': venv)",
   "language": "python",
   "name": "python3"
  },
  "language_info": {
   "codemirror_mode": {
    "name": "ipython",
    "version": 3
   },
   "file_extension": ".py",
   "mimetype": "text/x-python",
   "name": "python",
   "nbconvert_exporter": "python",
   "pygments_lexer": "ipython3",
   "version": "3.9.12"
  },
  "orig_nbformat": 4,
  "vscode": {
   "interpreter": {
    "hash": "edfc85cd6125fba325e43936d2e325e30e1e9112067751a66c5c52e50407c2e9"
   }
  }
 },
 "nbformat": 4,
 "nbformat_minor": 2
}
