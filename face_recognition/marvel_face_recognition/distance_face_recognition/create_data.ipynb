{
 "cells": [
  {
   "cell_type": "code",
   "execution_count": 15,
   "metadata": {},
   "outputs": [],
   "source": [
    "import json\n",
    "import os\n",
    "import random\n",
    "import numpy as np\n",
    "import pandas as pd\n",
    "from sklearn.model_selection import train_test_split\n",
    "import create_directory"
   ]
  },
  {
   "cell_type": "markdown",
   "metadata": {},
   "source": [
    "## Fixed Threshold"
   ]
  },
  {
   "cell_type": "markdown",
   "metadata": {},
   "source": [
    "Dữ liệu được sample đã thực hiện trong step_by_step_recognition/train_face_recognition.ipynb\n",
    "\n",
    "Tuy nhiên, trong tập train, ta sẽ loại bỏ các dữ liệu unknown trong tập train đi và lưu lại thành 1 tập dữ liệu khác. Tập test ta vẫn giữ nguyên\n",
    "\n",
    "Ta sẽ chỉ xét đến Hog - Openface"
   ]
  },
  {
   "cell_type": "code",
   "execution_count": 26,
   "metadata": {},
   "outputs": [],
   "source": [
    "with open(os.path.join(create_directory.recognition_model_dir, 'label2idx.json')) as json_file:\n",
    "    label2idx = json.load(json_file)\n",
    "\n",
    "def remove_unknown_data(feature, label, label2idx):\n",
    "    new_label = []\n",
    "    new_feature = []\n",
    "    for f, l in zip(feature, label):\n",
    "        if l == label2idx['Unknown']:\n",
    "            continue\n",
    "        new_label.append(l)\n",
    "        new_feature.append(f)\n",
    "    return new_label, new_feature"
   ]
  },
  {
   "cell_type": "code",
   "execution_count": 28,
   "metadata": {},
   "outputs": [],
   "source": [
    "data_path = os.path.join(create_directory.marvel_data_dir, 'sample_feature/hog_openface')\n",
    "save_path = os.path.join(create_directory.marvel_data_dir, 'distance_face_recognition/fixed_threshold')\n",
    "if not os.path.exists(save_path):\n",
    "    os.makedirs(save_path)"
   ]
  },
  {
   "cell_type": "code",
   "execution_count": 29,
   "metadata": {},
   "outputs": [],
   "source": [
    "with open(os.path.join(data_path, \"test_feature.json\"), \"r\") as outfile:\n",
    "    test_feature = json.load(outfile)\n",
    "with open(os.path.join(data_path, \"test_label_idx.json\"), \"r\") as outfile:\n",
    "    test_label_idx = json.load(outfile)\n",
    "with open(os.path.join(save_path, \"test_feature.json\"), \"w\") as outfile:\n",
    "    json.dump(test_feature, outfile)\n",
    "with open(os.path.join(save_path, \"test_label_idx.json\"), \"w\") as outfile:\n",
    "    json.dump(test_label_idx, outfile)"
   ]
  },
  {
   "cell_type": "code",
   "execution_count": 31,
   "metadata": {},
   "outputs": [
    {
     "name": "stdout",
     "output_type": "stream",
     "text": [
      "Sample 0\n",
      "Sample 1\n",
      "Sample 2\n",
      "Sample 3\n"
     ]
    }
   ],
   "source": [
    "sample_list = [0, 1, 2, 3]\n",
    "for i in sample_list:\n",
    "    print('Sample {}'.format(i))\n",
    "    with open(os.path.join(data_path, \"train_sample_{}_feature.json\".format(i)), \"r\") as outfile:\n",
    "        feature = json.load(outfile)\n",
    "    with open(os.path.join(data_path, \"train_sample_{}_label_idx.json\".format(i)), \"r\") as outfile:\n",
    "        label = json.load(outfile)\n",
    "    new_label, new_feature = remove_unknown_data(feature, label, label2idx)\n",
    "    with open(os.path.join(save_path, \"train_sample_{}_feature.json\".format(i)), \"w\") as outfile:\n",
    "        json.dump(new_feature, outfile)\n",
    "    with open(os.path.join(save_path, \"train_sample_{}_label_idx.json\".format(i)), \"w\") as outfile:\n",
    "        json.dump(new_label, outfile)"
   ]
  }
 ],
 "metadata": {
  "kernelspec": {
   "display_name": "Python 3.9.12 ('venv': venv)",
   "language": "python",
   "name": "python3"
  },
  "language_info": {
   "codemirror_mode": {
    "name": "ipython",
    "version": 3
   },
   "file_extension": ".py",
   "mimetype": "text/x-python",
   "name": "python",
   "nbconvert_exporter": "python",
   "pygments_lexer": "ipython3",
   "version": "3.9.12"
  },
  "orig_nbformat": 4,
  "vscode": {
   "interpreter": {
    "hash": "edfc85cd6125fba325e43936d2e325e30e1e9112067751a66c5c52e50407c2e9"
   }
  }
 },
 "nbformat": 4,
 "nbformat_minor": 2
}
