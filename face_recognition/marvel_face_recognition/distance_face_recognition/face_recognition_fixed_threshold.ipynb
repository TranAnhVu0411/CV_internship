{
 "cells": [
  {
   "cell_type": "code",
   "execution_count": 8,
   "metadata": {},
   "outputs": [],
   "source": [
    "from sklearn.metrics.pairwise import euclidean_distances, cosine_similarity\n",
    "from sklearn.metrics import accuracy_score, confusion_matrix\n",
    "import numpy as np\n",
    "import os\n",
    "import json\n",
    "import seaborn as sn\n",
    "import matplotlib.pyplot as plt\n",
    "import pandas as pd\n",
    "import create_directory"
   ]
  },
  {
   "cell_type": "markdown",
   "metadata": {},
   "source": [
    "# Load Data"
   ]
  },
  {
   "cell_type": "code",
   "execution_count": 9,
   "metadata": {},
   "outputs": [],
   "source": [
    "data_path = os.path.join(create_directory.marvel_data_dir, \"distance_face_recognition/fixed_threshold\")"
   ]
  },
  {
   "cell_type": "code",
   "execution_count": 10,
   "metadata": {},
   "outputs": [],
   "source": [
    "# label2idx\n",
    "with open(os.path.join(create_directory.recognition_model_dir, 'label2idx.json')) as json_file:\n",
    "    label2idx = json.load(json_file)\n",
    "\n",
    "# Big data\n",
    "with open(os.path.join(data_path, \"train_feature_big.json\"), \"r\") as outfile:\n",
    "    x_train_big = json.load(outfile)\n",
    "with open(os.path.join(data_path, \"test_feature_big.json\"), \"r\") as outfile:\n",
    "    x_test_big = json.load(outfile)\n",
    "with open(os.path.join(data_path, \"train_label_idx_big.json\"), \"r\") as outfile:\n",
    "    y_train_big = json.load(outfile)\n",
    "with open(os.path.join(data_path, \"test_label_idx_big.json\"), \"r\") as outfile:\n",
    "    y_test_big = json.load(outfile)\n",
    "\n",
    "# Small data\n",
    "with open(os.path.join(data_path, \"train_feature_small.json\"), \"r\") as outfile:\n",
    "    x_train_small = json.load(outfile)\n",
    "with open(os.path.join(data_path, \"test_feature_small.json\"), \"r\") as outfile:\n",
    "    x_test_small = json.load(outfile)\n",
    "with open(os.path.join(data_path, \"train_label_idx_small.json\"), \"r\") as outfile:\n",
    "    y_train_small = json.load(outfile)\n",
    "with open(os.path.join(data_path, \"test_label_idx_small.json\"), \"r\") as outfile:\n",
    "    y_test_small = json.load(outfile)"
   ]
  },
  {
   "cell_type": "markdown",
   "metadata": {},
   "source": [
    "# Face recognition"
   ]
  },
  {
   "cell_type": "markdown",
   "metadata": {},
   "source": [
    "## Cài đặt hàm"
   ]
  },
  {
   "cell_type": "code",
   "execution_count": 11,
   "metadata": {},
   "outputs": [],
   "source": [
    "# Các hàm nhận diện khuôn mặt\n",
    "def nearest_recognition(feat, train_labels, train_feats, metric, threshold):\n",
    "    candidate_label = []\n",
    "    candidate_score = []\n",
    "    for label, vector in zip(train_labels, train_feats):\n",
    "        if metric=='euclidean_distance':\n",
    "            metric_score = euclidean_distances(np.array(feat).reshape(1, -1), np.array(vector).reshape(1, -1))[0][0]\n",
    "            if metric_score<threshold:\n",
    "                candidate_label.append(label)\n",
    "                candidate_score.append(metric_score)\n",
    "        elif metric==\"cosine_similarity\":\n",
    "            metric_score = cosine_similarity(np.array(feat).reshape(1, -1), np.array(vector).reshape(1, -1))[0][0]\n",
    "            if metric_score>threshold:\n",
    "                candidate_label.append(label)\n",
    "                candidate_score.append(metric_score)\n",
    "    if len(candidate_label)==0:\n",
    "        return label2idx[\"Unknown\"]\n",
    "    else:\n",
    "        if metric=='euclidean_distance':\n",
    "            return candidate_label[candidate_score.index(min(candidate_score))]\n",
    "        if metric=='cosine_similarity':\n",
    "            return candidate_label[candidate_score.index(max(candidate_score))]\n",
    "\n",
    "def naive_neighbour_recognition(feat, train_labels, train_feats, metric, threshold):\n",
    "    candidate_label = []\n",
    "    candidate_score = []\n",
    "    for label, vector in zip(train_labels, train_feats):\n",
    "        if metric == \"euclidean_distance\":\n",
    "            metric_score = euclidean_distances(np.array(feat).reshape(1, -1), np.array(vector).reshape(1, -1))[0][0]\n",
    "            if metric_score<threshold:\n",
    "                candidate_label.append(label)\n",
    "                candidate_score.append(metric_score)\n",
    "        elif metric==\"cosine_similarity\":\n",
    "            metric_score = cosine_similarity(np.array(feat).reshape(1, -1), np.array(vector).reshape(1, -1))[0][0]\n",
    "            if metric_score>threshold:\n",
    "                candidate_label.append(label)\n",
    "                candidate_score.append(metric_score)\n",
    "    if len(candidate_label)==0:\n",
    "        return label2idx[\"Unknown\"]\n",
    "    else:\n",
    "        df_candidate=pd.DataFrame({'Label': candidate_label})\n",
    "        df_candidate_count = pd.DataFrame(df_candidate[\"Label\"].value_counts().to_dict().items(), columns=['Label','Count'])\n",
    "        list_candidate = list(df_candidate_count[df_candidate_count['Count']==max(df_candidate_count['Count'])]['Label'])\n",
    "        if len(list_candidate) == 1:\n",
    "            return max(candidate_label, key = candidate_label.count)\n",
    "        else:\n",
    "            df_candidate_score=pd.DataFrame({'Label': candidate_label, 'Score': candidate_score})\n",
    "            best_candidate = df_candidate_score[df_candidate_score['Label'].isin(list_candidate)].groupby('Label').mean().to_dict()['Score']\n",
    "            if metric=='euclidean_distance':\n",
    "                return min(best_candidate, key = best_candidate.get)\n",
    "            elif metric=='cosine_similarity':\n",
    "                return max(best_candidate, key = best_candidate.get)\n",
    "\n",
    "def weight_neighbour_recognition(feat, train_labels, train_feats, metric, threshold):\n",
    "    candidate_label = []\n",
    "    candidate_score = []\n",
    "    for label, vector in zip(train_labels, train_feats):\n",
    "        if metric=='euclidean_distance':\n",
    "            score = euclidean_distances(np.array(feat).reshape(1, -1), np.array(vector).reshape(1, -1))[0][0]\n",
    "            if score<threshold:\n",
    "                candidate_label.append(label)\n",
    "                candidate_score.append(score)\n",
    "        elif metric=='cosine_similarity':\n",
    "            score = cosine_similarity(np.array(feat).reshape(1, -1), np.array(vector).reshape(1, -1))[0][0]\n",
    "            if score>threshold:\n",
    "                candidate_label.append(label)\n",
    "                candidate_score.append(score)\n",
    "    if len(candidate_label)==0:\n",
    "        return label2idx[\"Unknown\"]\n",
    "    else:\n",
    "        weight = {}\n",
    "        if metric=='euclidean_distances':\n",
    "            for i in range(len(candidate_label)):\n",
    "                can = candidate_label[i]\n",
    "                dis = candidate_score[i]\n",
    "                if can not in weight:\n",
    "                    weight[can]=0\n",
    "                weight[can]+=1/dis\n",
    "            return max(weight, key = weight.get)\n",
    "        elif metric=='cosine_similarity':\n",
    "            for i in range(len(candidate_label)):\n",
    "                can = candidate_label[i]\n",
    "                sim = candidate_score[i]\n",
    "                if can not in weight:\n",
    "                    weight[can]={}\n",
    "                    weight[can]['total']=0\n",
    "                    weight[can]['count']=1\n",
    "                weight[can]['total']+=sim\n",
    "                weight[can]['count']+=1\n",
    "            mean={}\n",
    "            for label, info in weight.items():\n",
    "                mean[label]=info['total']/info['count']\n",
    "            return max(mean, key = mean.get)"
   ]
  },
  {
   "cell_type": "code",
   "execution_count": 12,
   "metadata": {},
   "outputs": [],
   "source": [
    "# Lấy kết quả dự đoán ứng với các threshold tương ứng\n",
    "threshold_list = np.arange(0.1, 1, 0.05)\n",
    "def test_threshold(threshold_list, x_train, x_test, y_train, type, metric):\n",
    "    recognition_result = {}\n",
    "    for i in threshold_list:\n",
    "        print(\"Threshold: \"+str(i))\n",
    "        if type==\"nearest\":\n",
    "            recognition_result[i] = [nearest_recognition(j, y_train, x_train, metric, i) for j in x_test]\n",
    "        if type==\"naive_neighbour\":\n",
    "            recognition_result[i] = [naive_neighbour_recognition(j, y_train, x_train, metric, i) for j in x_test]\n",
    "        if type==\"weight_neighbour\":\n",
    "            recognition_result[i] = [weight_neighbour_recognition(j, y_train, x_train, metric, i) for j in x_test]\n",
    "    return recognition_result\n",
    "\n",
    "def evaluation(true, pred):\n",
    "    fa = 0  # False accept\n",
    "    wa = 0  # Wrong answer\n",
    "    fr = 0  # False reject\n",
    "    accept = 0\n",
    "    reject = 0\n",
    "\n",
    "    for (i, j) in zip(true, pred):\n",
    "        # Hệ thống nhận diện khuôn mặt đó có trong database\n",
    "        if j != label2idx[\"Unknown\"]:\n",
    "            accept+=1\n",
    "            # Hệ thống nhận diện khuôn mặt Unknown thành khuôn mặt trong database\n",
    "            if i == label2idx[\"Unknown\"]:\n",
    "                fa+=1\n",
    "            else:\n",
    "                # Hệ thống nhận diện nhầm khuôn mặt trong database\n",
    "                if i!=j:\n",
    "                    wa+=1\n",
    "        else:\n",
    "            reject+=1\n",
    "            if i != label2idx[\"Unknown\"]:\n",
    "                fr+=1\n",
    "    # Mong muốn giảm fa, wa\n",
    "    return (fa, wa, fr, accept, reject)"
   ]
  },
  {
   "cell_type": "code",
   "execution_count": 13,
   "metadata": {},
   "outputs": [],
   "source": [
    "# Plot confusion matrix\n",
    "idx2label = {y: x for x, y in label2idx.items()}\n",
    "def show_result(result, y_test, threshold):\n",
    "    pred = result[threshold]\n",
    "    fa, wa, fr, accept, reject = evaluation(y_test, pred)\n",
    "    acc = accuracy_score(y_test, pred)\n",
    "    print(\"Threshold = \"+str(threshold))\n",
    "    print(\"Accuracy: {}, Accept: {}, False Accept: {}, Wrong Recognition: {}, Reject: {}, False Reject: {}\".format(acc, accept, fa, wa, reject, fr))\n",
    "    print(\"\")\n",
    "    array = confusion_matrix(y_test, pred)\n",
    "    df_cm = pd.DataFrame(array, index = [idx2label[i] for i in range(7)], \n",
    "                        columns = [idx2label[i] for i in range(7)])\n",
    "    sn.heatmap(df_cm, annot=True, annot_kws={\"size\": 16}) # font size\n",
    "    plt.title(\"Confusion matrix with threshold = \"+str(threshold))\n",
    "    plt.show()\n",
    "\n",
    "# Save result\n",
    "def save_result(result, y_test, save_path):\n",
    "    thresh_list, fa_list, wa_list, fr_list, accept_list, reject_list, accuracy_list = [], [], [], [], [], [], []\n",
    "    for threshold, pred in result.items():\n",
    "        fa, wa, fr, accept, reject = evaluation(y_test, pred)\n",
    "        acc = accuracy_score(y_test, pred)\n",
    "        thresh_list.append(threshold)\n",
    "        fa_list.append(fa)\n",
    "        wa_list.append(wa)\n",
    "        fr_list.append(fr)\n",
    "        accept_list.append(accept)\n",
    "        reject_list.append(reject)\n",
    "        accuracy_list.append(acc)\n",
    "    dict = {'threshold': thresh_list, 'accept': accept_list, 'fa': fa_list, 'wa': wa_list, \n",
    "            'reject': reject_list, 'fr': fr_list, 'accuracy': accuracy_list} \n",
    "    df = pd.DataFrame(dict)\n",
    "    df.to_csv(save_path, index=False)"
   ]
  },
  {
   "cell_type": "markdown",
   "metadata": {},
   "source": [
    "## Euclidean distance (e)"
   ]
  },
  {
   "cell_type": "code",
   "execution_count": 8,
   "metadata": {},
   "outputs": [],
   "source": [
    "save_path = os.path.join(create_directory.result_dir, 'test_threshold/fixed_threshold/euclidean_distance')\n",
    "if not os.path.exists(save_path):\n",
    "    os.makedirs(save_path)"
   ]
  },
  {
   "cell_type": "markdown",
   "metadata": {},
   "source": [
    "### Big dataset"
   ]
  },
  {
   "cell_type": "markdown",
   "metadata": {},
   "source": [
    "#### Nearest candidate"
   ]
  },
  {
   "cell_type": "code",
   "execution_count": 9,
   "metadata": {},
   "outputs": [
    {
     "name": "stdout",
     "output_type": "stream",
     "text": [
      "Threshold: 0.1\n",
      "Threshold: 0.15000000000000002\n",
      "Threshold: 0.20000000000000004\n",
      "Threshold: 0.25000000000000006\n",
      "Threshold: 0.30000000000000004\n",
      "Threshold: 0.3500000000000001\n",
      "Threshold: 0.40000000000000013\n",
      "Threshold: 0.45000000000000007\n",
      "Threshold: 0.5000000000000001\n",
      "Threshold: 0.5500000000000002\n",
      "Threshold: 0.6000000000000002\n",
      "Threshold: 0.6500000000000001\n",
      "Threshold: 0.7000000000000002\n",
      "Threshold: 0.7500000000000002\n",
      "Threshold: 0.8000000000000002\n",
      "Threshold: 0.8500000000000002\n",
      "Threshold: 0.9000000000000002\n",
      "Threshold: 0.9500000000000003\n"
     ]
    }
   ],
   "source": [
    "big_nearest_e_recognition_result = test_threshold(threshold_list, x_train_big, x_test_big, y_train_big, \n",
    "                                                  type='nearest', metric='euclidean_distance')"
   ]
  },
  {
   "cell_type": "code",
   "execution_count": 10,
   "metadata": {},
   "outputs": [],
   "source": [
    "save_result(big_nearest_e_recognition_result, y_test_big, \n",
    "            os.path.join(save_path, \"big_nearest_candidate_threshold_test.csv\"))"
   ]
  },
  {
   "cell_type": "markdown",
   "metadata": {},
   "source": [
    "#### Naive Neighbour candidates"
   ]
  },
  {
   "cell_type": "code",
   "execution_count": 11,
   "metadata": {},
   "outputs": [
    {
     "name": "stdout",
     "output_type": "stream",
     "text": [
      "Threshold: 0.1\n",
      "Threshold: 0.15000000000000002\n",
      "Threshold: 0.20000000000000004\n",
      "Threshold: 0.25000000000000006\n",
      "Threshold: 0.30000000000000004\n",
      "Threshold: 0.3500000000000001\n",
      "Threshold: 0.40000000000000013\n",
      "Threshold: 0.45000000000000007\n",
      "Threshold: 0.5000000000000001\n",
      "Threshold: 0.5500000000000002\n",
      "Threshold: 0.6000000000000002\n",
      "Threshold: 0.6500000000000001\n",
      "Threshold: 0.7000000000000002\n",
      "Threshold: 0.7500000000000002\n",
      "Threshold: 0.8000000000000002\n",
      "Threshold: 0.8500000000000002\n",
      "Threshold: 0.9000000000000002\n",
      "Threshold: 0.9500000000000003\n"
     ]
    }
   ],
   "source": [
    "big_naive_neighbour_e_recognition_result = test_threshold(threshold_list, x_train_big, x_test_big, y_train_big, \n",
    "                                                          type='naive_neighbour', metric='euclidean_distance')"
   ]
  },
  {
   "cell_type": "code",
   "execution_count": 12,
   "metadata": {},
   "outputs": [],
   "source": [
    "save_result(big_naive_neighbour_e_recognition_result, y_test_big, \n",
    "            os.path.join(save_path, \"big_naive_neighbour_candidate_threshold_test.csv\"))"
   ]
  },
  {
   "cell_type": "markdown",
   "metadata": {},
   "source": [
    "#### Weight Neighbour candidates"
   ]
  },
  {
   "cell_type": "code",
   "execution_count": 13,
   "metadata": {},
   "outputs": [
    {
     "name": "stdout",
     "output_type": "stream",
     "text": [
      "Threshold: 0.1\n",
      "Threshold: 0.15000000000000002\n",
      "Threshold: 0.20000000000000004\n",
      "Threshold: 0.25000000000000006\n",
      "Threshold: 0.30000000000000004\n",
      "Threshold: 0.3500000000000001\n",
      "Threshold: 0.40000000000000013\n",
      "Threshold: 0.45000000000000007\n",
      "Threshold: 0.5000000000000001\n",
      "Threshold: 0.5500000000000002\n",
      "Threshold: 0.6000000000000002\n",
      "Threshold: 0.6500000000000001\n",
      "Threshold: 0.7000000000000002\n",
      "Threshold: 0.7500000000000002\n",
      "Threshold: 0.8000000000000002\n",
      "Threshold: 0.8500000000000002\n",
      "Threshold: 0.9000000000000002\n",
      "Threshold: 0.9500000000000003\n"
     ]
    }
   ],
   "source": [
    "big_weight_e_neighbour_recognition_result = test_threshold(threshold_list, x_train_big, x_test_big, y_train_big, \n",
    "                                                           metric='euclidean_distance', type='weight_neighbour')"
   ]
  },
  {
   "cell_type": "code",
   "execution_count": 14,
   "metadata": {},
   "outputs": [],
   "source": [
    "save_result(big_weight_e_neighbour_recognition_result, y_test_big, \n",
    "            os.path.join(save_path, \"big_weight_neighbour_candidate_threshold_test.csv\"))"
   ]
  },
  {
   "cell_type": "markdown",
   "metadata": {},
   "source": [
    "### Small dataset"
   ]
  },
  {
   "cell_type": "markdown",
   "metadata": {},
   "source": [
    "#### Nearest candidate"
   ]
  },
  {
   "cell_type": "code",
   "execution_count": 15,
   "metadata": {},
   "outputs": [
    {
     "name": "stdout",
     "output_type": "stream",
     "text": [
      "Threshold: 0.1\n",
      "Threshold: 0.15000000000000002\n",
      "Threshold: 0.20000000000000004\n",
      "Threshold: 0.25000000000000006\n",
      "Threshold: 0.30000000000000004\n",
      "Threshold: 0.3500000000000001\n",
      "Threshold: 0.40000000000000013\n",
      "Threshold: 0.45000000000000007\n",
      "Threshold: 0.5000000000000001\n",
      "Threshold: 0.5500000000000002\n",
      "Threshold: 0.6000000000000002\n",
      "Threshold: 0.6500000000000001\n",
      "Threshold: 0.7000000000000002\n",
      "Threshold: 0.7500000000000002\n",
      "Threshold: 0.8000000000000002\n",
      "Threshold: 0.8500000000000002\n",
      "Threshold: 0.9000000000000002\n",
      "Threshold: 0.9500000000000003\n"
     ]
    }
   ],
   "source": [
    "small_nearest_e_recognition_result = test_threshold(threshold_list, x_train_small, x_test_small, y_train_small, \n",
    "                                                    type='nearest', metric='euclidean_distance')"
   ]
  },
  {
   "cell_type": "code",
   "execution_count": 16,
   "metadata": {},
   "outputs": [],
   "source": [
    "save_result(small_nearest_e_recognition_result, y_test_small, \n",
    "            os.path.join(save_path, \"small_nearest_candidate_threshold_test.csv\"))"
   ]
  },
  {
   "cell_type": "markdown",
   "metadata": {},
   "source": [
    "#### Naive Neighbour candidates"
   ]
  },
  {
   "cell_type": "code",
   "execution_count": 17,
   "metadata": {},
   "outputs": [
    {
     "name": "stdout",
     "output_type": "stream",
     "text": [
      "Threshold: 0.1\n",
      "Threshold: 0.15000000000000002\n",
      "Threshold: 0.20000000000000004\n",
      "Threshold: 0.25000000000000006\n",
      "Threshold: 0.30000000000000004\n",
      "Threshold: 0.3500000000000001\n",
      "Threshold: 0.40000000000000013\n",
      "Threshold: 0.45000000000000007\n",
      "Threshold: 0.5000000000000001\n",
      "Threshold: 0.5500000000000002\n",
      "Threshold: 0.6000000000000002\n",
      "Threshold: 0.6500000000000001\n",
      "Threshold: 0.7000000000000002\n",
      "Threshold: 0.7500000000000002\n",
      "Threshold: 0.8000000000000002\n",
      "Threshold: 0.8500000000000002\n",
      "Threshold: 0.9000000000000002\n",
      "Threshold: 0.9500000000000003\n"
     ]
    }
   ],
   "source": [
    "small_naive_neighbour_e_recognition_result = test_threshold(threshold_list, x_train_small, x_test_small, y_train_small, \n",
    "                                                            type='naive_neighbour', metric='euclidean_distance')"
   ]
  },
  {
   "cell_type": "code",
   "execution_count": 18,
   "metadata": {},
   "outputs": [],
   "source": [
    "save_result(small_naive_neighbour_e_recognition_result, y_test_small, \n",
    "            os.path.join(save_path, \"small_naive_neighbour_candidate_threshold_test.csv\"))"
   ]
  },
  {
   "cell_type": "markdown",
   "metadata": {},
   "source": [
    "### Weight Neighbour candidates"
   ]
  },
  {
   "cell_type": "code",
   "execution_count": 19,
   "metadata": {},
   "outputs": [
    {
     "name": "stdout",
     "output_type": "stream",
     "text": [
      "Threshold: 0.1\n",
      "Threshold: 0.15000000000000002\n",
      "Threshold: 0.20000000000000004\n",
      "Threshold: 0.25000000000000006\n",
      "Threshold: 0.30000000000000004\n",
      "Threshold: 0.3500000000000001\n",
      "Threshold: 0.40000000000000013\n",
      "Threshold: 0.45000000000000007\n",
      "Threshold: 0.5000000000000001\n",
      "Threshold: 0.5500000000000002\n",
      "Threshold: 0.6000000000000002\n",
      "Threshold: 0.6500000000000001\n",
      "Threshold: 0.7000000000000002\n",
      "Threshold: 0.7500000000000002\n",
      "Threshold: 0.8000000000000002\n",
      "Threshold: 0.8500000000000002\n",
      "Threshold: 0.9000000000000002\n",
      "Threshold: 0.9500000000000003\n"
     ]
    }
   ],
   "source": [
    "small_weight_e_neighbour_recognition_result = test_threshold(threshold_list, x_train_small, x_test_small, y_train_small, \n",
    "                                                             metric='euclidean_distance', type='weight_neighbour')"
   ]
  },
  {
   "cell_type": "code",
   "execution_count": 20,
   "metadata": {},
   "outputs": [],
   "source": [
    "save_result(small_weight_e_neighbour_recognition_result, y_test_small, \n",
    "            os.path.join(save_path, \"small_weight_neighbour_candidate_threshold_test.csv\"))"
   ]
  },
  {
   "cell_type": "markdown",
   "metadata": {},
   "source": [
    "## Cosnine similarity (c)"
   ]
  },
  {
   "cell_type": "code",
   "execution_count": 14,
   "metadata": {},
   "outputs": [],
   "source": [
    "save_path = os.path.join(create_directory.result_dir, 'test_threshold/fixed_threshold/cosine_similarity')\n",
    "if not os.path.exists(save_path):\n",
    "    os.makedirs(save_path)"
   ]
  },
  {
   "cell_type": "markdown",
   "metadata": {},
   "source": [
    "### Big Dataset"
   ]
  },
  {
   "cell_type": "markdown",
   "metadata": {},
   "source": [
    "#### Nearest candidate"
   ]
  },
  {
   "cell_type": "code",
   "execution_count": 22,
   "metadata": {},
   "outputs": [
    {
     "name": "stdout",
     "output_type": "stream",
     "text": [
      "Threshold: 0.1\n",
      "Threshold: 0.15000000000000002\n",
      "Threshold: 0.20000000000000004\n",
      "Threshold: 0.25000000000000006\n",
      "Threshold: 0.30000000000000004\n",
      "Threshold: 0.3500000000000001\n",
      "Threshold: 0.40000000000000013\n",
      "Threshold: 0.45000000000000007\n",
      "Threshold: 0.5000000000000001\n",
      "Threshold: 0.5500000000000002\n",
      "Threshold: 0.6000000000000002\n",
      "Threshold: 0.6500000000000001\n",
      "Threshold: 0.7000000000000002\n",
      "Threshold: 0.7500000000000002\n",
      "Threshold: 0.8000000000000002\n",
      "Threshold: 0.8500000000000002\n",
      "Threshold: 0.9000000000000002\n",
      "Threshold: 0.9500000000000003\n"
     ]
    }
   ],
   "source": [
    "big_nearest_c_recognition_result = test_threshold(threshold_list, x_train_big, x_test_big, y_train_big, \n",
    "                                                  type='nearest', metric='cosine_similarity')"
   ]
  },
  {
   "cell_type": "code",
   "execution_count": 23,
   "metadata": {},
   "outputs": [],
   "source": [
    "save_result(big_nearest_c_recognition_result, y_test_big, \n",
    "            os.path.join(save_path, \"big_nearest_candidate_threshold_test.csv\"))"
   ]
  },
  {
   "cell_type": "markdown",
   "metadata": {},
   "source": [
    "#### Naive neighbour candidate"
   ]
  },
  {
   "cell_type": "code",
   "execution_count": 24,
   "metadata": {},
   "outputs": [
    {
     "name": "stdout",
     "output_type": "stream",
     "text": [
      "Threshold: 0.1\n",
      "Threshold: 0.15000000000000002\n",
      "Threshold: 0.20000000000000004\n",
      "Threshold: 0.25000000000000006\n",
      "Threshold: 0.30000000000000004\n",
      "Threshold: 0.3500000000000001\n",
      "Threshold: 0.40000000000000013\n",
      "Threshold: 0.45000000000000007\n",
      "Threshold: 0.5000000000000001\n",
      "Threshold: 0.5500000000000002\n",
      "Threshold: 0.6000000000000002\n",
      "Threshold: 0.6500000000000001\n",
      "Threshold: 0.7000000000000002\n",
      "Threshold: 0.7500000000000002\n",
      "Threshold: 0.8000000000000002\n",
      "Threshold: 0.8500000000000002\n",
      "Threshold: 0.9000000000000002\n",
      "Threshold: 0.9500000000000003\n"
     ]
    }
   ],
   "source": [
    "big_naive_neighbour_c_recognition_result = test_threshold(threshold_list, x_train_big, x_test_big, y_train_big, \n",
    "                                                          type='naive_neighbour', metric='cosine_similarity')"
   ]
  },
  {
   "cell_type": "code",
   "execution_count": 25,
   "metadata": {},
   "outputs": [],
   "source": [
    "save_result(big_naive_neighbour_c_recognition_result, y_test_big, \n",
    "            os.path.join(save_path, \"big_naive_neighbour_candidate_threshold_test.csv\"))"
   ]
  },
  {
   "cell_type": "markdown",
   "metadata": {},
   "source": [
    "#### Weight Neighbour candidates"
   ]
  },
  {
   "cell_type": "code",
   "execution_count": 15,
   "metadata": {},
   "outputs": [
    {
     "name": "stdout",
     "output_type": "stream",
     "text": [
      "Threshold: 0.1\n",
      "Threshold: 0.15000000000000002\n",
      "Threshold: 0.20000000000000004\n",
      "Threshold: 0.25000000000000006\n",
      "Threshold: 0.30000000000000004\n",
      "Threshold: 0.3500000000000001\n",
      "Threshold: 0.40000000000000013\n",
      "Threshold: 0.45000000000000007\n",
      "Threshold: 0.5000000000000001\n",
      "Threshold: 0.5500000000000002\n",
      "Threshold: 0.6000000000000002\n",
      "Threshold: 0.6500000000000001\n",
      "Threshold: 0.7000000000000002\n",
      "Threshold: 0.7500000000000002\n",
      "Threshold: 0.8000000000000002\n",
      "Threshold: 0.8500000000000002\n",
      "Threshold: 0.9000000000000002\n",
      "Threshold: 0.9500000000000003\n"
     ]
    }
   ],
   "source": [
    "big_weight_c_neighbour_recognition_result = test_threshold(threshold_list, x_train_big, x_test_big, y_train_big, \n",
    "                                                          metric='cosine_similarity', type='weight_neighbour')"
   ]
  },
  {
   "cell_type": "code",
   "execution_count": 16,
   "metadata": {},
   "outputs": [],
   "source": [
    "save_result(big_weight_c_neighbour_recognition_result, y_test_big, \n",
    "            os.path.join(save_path, \"big_weight_neighbour_candidate_threshold_test.csv\"))"
   ]
  },
  {
   "cell_type": "markdown",
   "metadata": {},
   "source": [
    "### Small dataset"
   ]
  },
  {
   "cell_type": "markdown",
   "metadata": {},
   "source": [
    "#### Nearest candidate"
   ]
  },
  {
   "cell_type": "code",
   "execution_count": 26,
   "metadata": {},
   "outputs": [
    {
     "name": "stdout",
     "output_type": "stream",
     "text": [
      "Threshold: 0.1\n",
      "Threshold: 0.15000000000000002\n",
      "Threshold: 0.20000000000000004\n",
      "Threshold: 0.25000000000000006\n",
      "Threshold: 0.30000000000000004\n",
      "Threshold: 0.3500000000000001\n",
      "Threshold: 0.40000000000000013\n",
      "Threshold: 0.45000000000000007\n",
      "Threshold: 0.5000000000000001\n",
      "Threshold: 0.5500000000000002\n",
      "Threshold: 0.6000000000000002\n",
      "Threshold: 0.6500000000000001\n",
      "Threshold: 0.7000000000000002\n",
      "Threshold: 0.7500000000000002\n",
      "Threshold: 0.8000000000000002\n",
      "Threshold: 0.8500000000000002\n",
      "Threshold: 0.9000000000000002\n",
      "Threshold: 0.9500000000000003\n"
     ]
    }
   ],
   "source": [
    "small_nearest_c_recognition_result = test_threshold(threshold_list, x_train_small, x_test_small, y_train_small, \n",
    "                                                    type='nearest', metric='cosine_similarity')"
   ]
  },
  {
   "cell_type": "code",
   "execution_count": 27,
   "metadata": {},
   "outputs": [],
   "source": [
    "save_result(small_nearest_c_recognition_result, y_test_small, \n",
    "            os.path.join(save_path, \"small_nearest_candidate_threshold_test.csv\"))"
   ]
  },
  {
   "cell_type": "markdown",
   "metadata": {},
   "source": [
    "#### Naive neighbour candidate"
   ]
  },
  {
   "cell_type": "code",
   "execution_count": 28,
   "metadata": {},
   "outputs": [
    {
     "name": "stdout",
     "output_type": "stream",
     "text": [
      "Threshold: 0.1\n",
      "Threshold: 0.15000000000000002\n",
      "Threshold: 0.20000000000000004\n",
      "Threshold: 0.25000000000000006\n",
      "Threshold: 0.30000000000000004\n",
      "Threshold: 0.3500000000000001\n",
      "Threshold: 0.40000000000000013\n",
      "Threshold: 0.45000000000000007\n",
      "Threshold: 0.5000000000000001\n",
      "Threshold: 0.5500000000000002\n",
      "Threshold: 0.6000000000000002\n",
      "Threshold: 0.6500000000000001\n",
      "Threshold: 0.7000000000000002\n",
      "Threshold: 0.7500000000000002\n",
      "Threshold: 0.8000000000000002\n",
      "Threshold: 0.8500000000000002\n",
      "Threshold: 0.9000000000000002\n",
      "Threshold: 0.9500000000000003\n"
     ]
    }
   ],
   "source": [
    "small_naive_neighbour_c_recognition_result = test_threshold(threshold_list, x_train_small, x_test_small, y_train_small, \n",
    "                                                          type='naive_neighbour', metric='cosine_similarity')"
   ]
  },
  {
   "cell_type": "code",
   "execution_count": 29,
   "metadata": {},
   "outputs": [],
   "source": [
    "save_result(small_naive_neighbour_c_recognition_result, y_test_small, \n",
    "            os.path.join(save_path, \"small_naive_neighbour_candidate_threshold_test.csv\"))"
   ]
  },
  {
   "cell_type": "markdown",
   "metadata": {},
   "source": [
    "#### Weight Neighbour Candidate"
   ]
  },
  {
   "cell_type": "code",
   "execution_count": 17,
   "metadata": {},
   "outputs": [
    {
     "name": "stdout",
     "output_type": "stream",
     "text": [
      "Threshold: 0.1\n",
      "Threshold: 0.15000000000000002\n",
      "Threshold: 0.20000000000000004\n",
      "Threshold: 0.25000000000000006\n",
      "Threshold: 0.30000000000000004\n",
      "Threshold: 0.3500000000000001\n",
      "Threshold: 0.40000000000000013\n",
      "Threshold: 0.45000000000000007\n",
      "Threshold: 0.5000000000000001\n",
      "Threshold: 0.5500000000000002\n",
      "Threshold: 0.6000000000000002\n",
      "Threshold: 0.6500000000000001\n",
      "Threshold: 0.7000000000000002\n",
      "Threshold: 0.7500000000000002\n",
      "Threshold: 0.8000000000000002\n",
      "Threshold: 0.8500000000000002\n",
      "Threshold: 0.9000000000000002\n",
      "Threshold: 0.9500000000000003\n"
     ]
    }
   ],
   "source": [
    "small_weight_neighbour_c_recognition_result = test_threshold(threshold_list, x_train_small, x_test_small, y_train_small, \n",
    "                                                             metric='cosine_similarity', type='weight_neighbour')"
   ]
  },
  {
   "cell_type": "code",
   "execution_count": 18,
   "metadata": {},
   "outputs": [],
   "source": [
    "save_result(small_weight_neighbour_c_recognition_result, y_test_small, \n",
    "            os.path.join(save_path, \"small_weight_neighbour_candidate_threshold_test.csv\"))"
   ]
  }
 ],
 "metadata": {
  "kernelspec": {
   "display_name": "Python 3.9.12 ('venv': venv)",
   "language": "python",
   "name": "python3"
  },
  "language_info": {
   "codemirror_mode": {
    "name": "ipython",
    "version": 3
   },
   "file_extension": ".py",
   "mimetype": "text/x-python",
   "name": "python",
   "nbconvert_exporter": "python",
   "pygments_lexer": "ipython3",
   "version": "3.9.12"
  },
  "orig_nbformat": 4,
  "vscode": {
   "interpreter": {
    "hash": "edfc85cd6125fba325e43936d2e325e30e1e9112067751a66c5c52e50407c2e9"
   }
  }
 },
 "nbformat": 4,
 "nbformat_minor": 2
}
