{
 "cells": [
  {
   "cell_type": "code",
   "execution_count": 1,
   "metadata": {},
   "outputs": [],
   "source": [
    "from sklearn.metrics.pairwise import euclidean_distances, cosine_similarity\n",
    "from sklearn.metrics import accuracy_score\n",
    "import json\n",
    "import os\n",
    "import ast\n",
    "import pandas as pd\n",
    "import numpy as np\n",
    "import create_directory\n",
    "import pathlib"
   ]
  },
  {
   "cell_type": "markdown",
   "metadata": {},
   "source": [
    "# Load dữ liệu"
   ]
  },
  {
   "cell_type": "code",
   "execution_count": 2,
   "metadata": {},
   "outputs": [],
   "source": [
    "# label2idx\n",
    "with open(os.path.join(create_directory.recognition_model_dir, 'label2idx.json')) as json_file:\n",
    "    label2idx = json.load(json_file)\n",
    "\n",
    "# Load dữ liệu test\n",
    "test_data_path = os.path.join(create_directory.marvel_data_dir, \"distance_face_recognition/fixed_threshold\")\n",
    "with open(os.path.join(test_data_path, \"test_feature.json\"), \"r\") as outfile:\n",
    "    x_test = json.load(outfile)\n",
    "with open(os.path.join(test_data_path, \"test_label_idx.json\"), \"r\") as outfile:\n",
    "    y_test = json.load(outfile)"
   ]
  },
  {
   "cell_type": "markdown",
   "metadata": {},
   "source": [
    "# Face Recognition"
   ]
  },
  {
   "cell_type": "markdown",
   "metadata": {},
   "source": [
    "## Xây dựng hàm"
   ]
  },
  {
   "cell_type": "code",
   "execution_count": 3,
   "metadata": {},
   "outputs": [],
   "source": [
    "def create_train_data(data_path, sample):\n",
    "    with open(os.path.join(data_path, \"train_sample_{}_feature.json\".format(sample)), \"r\") as outfile:\n",
    "        train_feature = json.load(outfile)\n",
    "    with open(os.path.join(data_path, \"train_sample_{}_label_idx.json\".format(sample)), \"r\") as outfile:\n",
    "        train_label_idx = json.load(outfile)\n",
    "    df = pd.DataFrame.from_dict({'feature': train_feature, 'label': train_label_idx}) \n",
    "    df[\"idx\"] = df.index\n",
    "    return df"
   ]
  },
  {
   "cell_type": "code",
   "execution_count": 4,
   "metadata": {},
   "outputs": [],
   "source": [
    "# Hàm cập nhật threshold\n",
    "def update_threshold(data, metric, pair):\n",
    "    threshold_data = pd.DataFrame({'feature': [], 'label': [], 'threshold': [], 'idx': []})\n",
    "    threshold_data = threshold_data.astype({\"feature\": object, \"label\": int, 'threshold': float, 'idx': int})\n",
    "    for index in range(len(data)):\n",
    "        register_data = data.iloc[index].to_dict()\n",
    "        score_info = []\n",
    "        # Tính score của điểm đang xét với các điểm khác trong threshold data\n",
    "        for i in range(len(threshold_data)):\n",
    "            item = {}\n",
    "            if pair == 'cross_similarities':\n",
    "                if threshold_data.iloc[i]['label']!=register_data['label']:\n",
    "                    item['idx']=threshold_data.iloc[i]['idx']\n",
    "                    if metric=='euclidean_distance':\n",
    "                        item['score']=euclidean_distances(np.array(threshold_data.iloc[i]['feature']).reshape(1, -1), np.array(register_data['feature']).reshape(1, -1))[0][0]\n",
    "                    elif metric=='cosine_similarity':\n",
    "                        item['score']=cosine_similarity(np.array(threshold_data.iloc[i]['feature']).reshape(1, -1), np.array(register_data['feature']).reshape(1, -1))[0][0]\n",
    "                    score_info.append(item)\n",
    "            if pair == 'auto_similarities':\n",
    "                if threshold_data.iloc[i]['label']==register_data['label']:\n",
    "                    item['idx']=threshold_data.iloc[i]['idx']\n",
    "                    if metric=='euclidean_distance':\n",
    "                        item['score']=euclidean_distances(np.array(threshold_data.iloc[i]['feature']).reshape(1, -1), np.array(register_data['feature']).reshape(1, -1))[0][0]\n",
    "                    elif metric=='cosine_similarity':\n",
    "                        item['score']=cosine_similarity(np.array(threshold_data.iloc[i]['feature']).reshape(1, -1), np.array(register_data['feature']).reshape(1, -1))[0][0]\n",
    "                    score_info.append(item)\n",
    "        # Update threshold của các điểm trong threshold data\n",
    "        for item in score_info:\n",
    "            if pair =='cross_similarities':\n",
    "                if metric=='euclidean_distance':\n",
    "                    threshold_data.loc[threshold_data['idx']==item['idx'], 'threshold']=min(threshold_data.loc[threshold_data['idx']==item['idx']]['threshold'].item(), item['score'])\n",
    "                elif metric=='cosine_similarity':\n",
    "                    threshold_data.loc[threshold_data['idx']==item['idx'], 'threshold']=max(threshold_data.loc[threshold_data['idx']==item['idx']]['threshold'].item(), item['score'])\n",
    "            if pair =='auto_similarities':\n",
    "                if metric=='euclidean_distance':\n",
    "                    threshold_data.loc[threshold_data['idx']==item['idx'], 'threshold']=max(threshold_data.loc[threshold_data['idx']==item['idx']]['threshold'].item(), item['score'])\n",
    "                elif metric=='cosine_similarity':\n",
    "                    threshold_data.loc[threshold_data['idx']==item['idx'], 'threshold']=min(threshold_data.loc[threshold_data['idx']==item['idx']]['threshold'].item(), item['score'])\n",
    "        # Thêm threshold của điểm đang xét và thêm điểm đó vào threshold data\n",
    "        if metric=='euclidean_distance':\n",
    "            if pair=='cross_similarities':\n",
    "                initial_threshold = 2 \n",
    "                register_data['threshold'] = min([item['score'] for item in score_info]+[initial_threshold])\n",
    "            if pair=='auto_similarities':\n",
    "                initial_threshold = 0 \n",
    "                register_data['threshold'] = max([item['score'] for item in score_info]+[initial_threshold])\n",
    "        elif metric=='cosine_similarity':\n",
    "            if pair=='cross_similarities':\n",
    "                initial_threshold = 0 \n",
    "                register_data['threshold'] = max([item['score'] for item in score_info]+[initial_threshold])\n",
    "            if pair=='auto_similarities':\n",
    "                initial_threshold = 1 \n",
    "                register_data['threshold'] = min([item['score'] for item in score_info]+[initial_threshold])\n",
    "        new_row = pd.DataFrame({'feature':[register_data['feature']], 'label': [register_data['label']], 'threshold':[register_data['threshold']], 'idx':[register_data['idx']]})\n",
    "        threshold_data = pd.concat([threshold_data, new_row])\n",
    "    return threshold_data"
   ]
  },
  {
   "cell_type": "code",
   "execution_count": 5,
   "metadata": {},
   "outputs": [],
   "source": [
    "# Hàm dự đoán\n",
    "def predict(feat, threshold_data, metric):\n",
    "    candidate_score=[]\n",
    "    for i in range(len(threshold_data)):\n",
    "        if metric == 'euclidean_distance':\n",
    "            score = euclidean_distances(np.array(threshold_data.iloc[i]['feature']).reshape(1, -1), np.array(feat).reshape(1, -1))[0][0]\n",
    "            candidate_score.append(score)\n",
    "        elif metric == 'cosine_similarity':\n",
    "            score = cosine_similarity(np.array(threshold_data.iloc[i]['feature']).reshape(1, -1), np.array(feat).reshape(1, -1))[0][0]\n",
    "            candidate_score.append(score)\n",
    "    if metric == 'euclidean_distance':\n",
    "        best_score = min(candidate_score)\n",
    "        idx = candidate_score.index(best_score)\n",
    "        if best_score < threshold_data.iloc[idx]['threshold']:\n",
    "            return threshold_data.iloc[idx]['label']\n",
    "        else:\n",
    "            return label2idx['Unknown']\n",
    "    elif metric == 'cosine_similarity':\n",
    "        best_score = max(candidate_score)\n",
    "        idx = candidate_score.index(best_score)\n",
    "        if best_score > threshold_data.iloc[idx]['threshold']:\n",
    "            return threshold_data.iloc[idx]['label']\n",
    "        else:\n",
    "            return label2idx['Unknown']"
   ]
  },
  {
   "cell_type": "code",
   "execution_count": 6,
   "metadata": {},
   "outputs": [],
   "source": [
    "def predict_test(x_test, data_path, sample, metric, pair, save_threshold=\"False\", save_path=\"\"):\n",
    "    data = create_train_data(data_path, sample)\n",
    "    threshold_data = update_threshold(data, metric, pair)\n",
    "    if save_threshold:\n",
    "        threshold_data.to_csv(save_path, index=False)\n",
    "    pred = [predict(feat, threshold_data, metric) for feat in x_test]\n",
    "    return pred"
   ]
  },
  {
   "cell_type": "markdown",
   "metadata": {},
   "source": [
    "## Thử nghiệm và lưu lại kết quả"
   ]
  },
  {
   "cell_type": "code",
   "execution_count": 7,
   "metadata": {},
   "outputs": [],
   "source": [
    "data_path = os.path.join(create_directory.marvel_data_dir, \"distance_face_recognition/fixed_threshold\")\n",
    "update_path = os.path.join(create_directory.marvel_data_dir, \"distance_face_recognition/adaptive_threshold\")\n",
    "sample_list = [0,1,2,3]"
   ]
  },
  {
   "cell_type": "markdown",
   "metadata": {},
   "source": [
    "### Cross similarities"
   ]
  },
  {
   "cell_type": "markdown",
   "metadata": {},
   "source": [
    "#### Euclidean distance"
   ]
  },
  {
   "cell_type": "markdown",
   "metadata": {},
   "source": [
    "##### Lấy kết quả dự đoán"
   ]
  },
  {
   "cell_type": "code",
   "execution_count": 8,
   "metadata": {},
   "outputs": [],
   "source": [
    "update_threshold_path = os.path.join(update_path, 'threshold', 'cross_similarities', 'euclidean')\n",
    "if not os.path.exists(update_threshold_path):\n",
    "    os.makedirs(update_threshold_path)"
   ]
  },
  {
   "cell_type": "code",
   "execution_count": 9,
   "metadata": {},
   "outputs": [
    {
     "name": "stdout",
     "output_type": "stream",
     "text": [
      "Sample 0\n",
      "Sample 1\n",
      "Sample 2\n",
      "Sample 3\n"
     ]
    }
   ],
   "source": [
    "result = {}\n",
    "for sample in sample_list:\n",
    "    print('Sample {}'.format(sample))\n",
    "    save_threshold_path = os.path.join(update_threshold_path, 'sample_{}_threshold.csv'.format(sample))\n",
    "    result['sample {}'.format(sample)]=predict_test(x_test, data_path, sample, metric='euclidean_distance', pair='cross_similarities', save_threshold=True, save_path=save_threshold_path)"
   ]
  },
  {
   "cell_type": "markdown",
   "metadata": {},
   "source": [
    "##### Lưu Kết quả"
   ]
  },
  {
   "cell_type": "code",
   "execution_count": 10,
   "metadata": {},
   "outputs": [],
   "source": [
    "def evaluation(true, pred):\n",
    "    fa = 0  # False accept\n",
    "    wa = 0  # Wrong answer\n",
    "    fr = 0  # False reject\n",
    "    accept = 0\n",
    "    reject = 0\n",
    "\n",
    "    for (i, j) in zip(true, pred):\n",
    "        # Hệ thống nhận diện khuôn mặt đó có trong database\n",
    "        if j != label2idx[\"Unknown\"]:\n",
    "            accept+=1\n",
    "            # Hệ thống nhận diện khuôn mặt Unknown thành khuôn mặt trong database\n",
    "            if i == label2idx[\"Unknown\"]:\n",
    "                fa+=1\n",
    "            else:\n",
    "                # Hệ thống nhận diện nhầm khuôn mặt trong database\n",
    "                if i!=j:\n",
    "                    wa+=1\n",
    "        else:\n",
    "            reject+=1\n",
    "            if i != label2idx[\"Unknown\"]:\n",
    "                fr+=1\n",
    "    # Mong muốn giảm fa, wa\n",
    "    return (fa, wa, fr, accept, reject)"
   ]
  },
  {
   "cell_type": "code",
   "execution_count": 11,
   "metadata": {},
   "outputs": [],
   "source": [
    "save_path = os.path.join(create_directory.result_dir, 'test_threshold/adaptive_threshold')\n",
    "if not os.path.exists(save_path):\n",
    "    os.makedirs(save_path)"
   ]
  },
  {
   "cell_type": "code",
   "execution_count": 12,
   "metadata": {},
   "outputs": [],
   "source": [
    "def save_result(result, save_path, save_name):\n",
    "    if not os.path.exists(save_path):\n",
    "        os.makedirs(save_path)\n",
    "    sample_list, fa_list, wa_list, fr_list, accept_list, reject_list, accuracy_list = [], [], [], [], [], [], []\n",
    "    for sample, y_pred in result.items():\n",
    "        fa, wa, fr, accept, reject = evaluation(y_test, y_pred)\n",
    "        acc = accuracy_score(y_test, y_pred)\n",
    "        sample_list.append(sample)\n",
    "        fa_list.append(fa)\n",
    "        wa_list.append(wa)\n",
    "        fr_list.append(fr)\n",
    "        accept_list.append(accept)\n",
    "        reject_list.append(reject)\n",
    "        accuracy_list.append(acc)\n",
    "    result_dict = {'sample': sample_list, 'accept': accept_list, 'fa': fa_list, 'wa': wa_list, \n",
    "                   'reject': reject_list, 'fr': fr_list, 'accuracy': accuracy_list}\n",
    "    df = pd.DataFrame(result_dict)\n",
    "    df.to_csv(os.path.join(save_path, save_name+'.csv'), index=False)     "
   ]
  },
  {
   "cell_type": "code",
   "execution_count": 13,
   "metadata": {},
   "outputs": [],
   "source": [
    "save_result(result, os.path.join(save_path, 'cross_similarities'), 'adaptive_result_euclidean')"
   ]
  },
  {
   "cell_type": "markdown",
   "metadata": {},
   "source": [
    "#### Cosine Similarity"
   ]
  },
  {
   "cell_type": "markdown",
   "metadata": {},
   "source": [
    "##### Lấy kết quả dự đoán"
   ]
  },
  {
   "cell_type": "code",
   "execution_count": 14,
   "metadata": {},
   "outputs": [],
   "source": [
    "update_threshold_path = os.path.join(update_path, 'threshold', 'cross_similarities', 'cosine')\n",
    "if not os.path.exists(update_threshold_path):\n",
    "    os.makedirs(update_threshold_path)"
   ]
  },
  {
   "cell_type": "code",
   "execution_count": 15,
   "metadata": {},
   "outputs": [],
   "source": [
    "result = {}\n",
    "for sample in sample_list:\n",
    "    save_threshold_path = os.path.join(update_threshold_path, 'sample_{}_threshold.csv'.format(sample))\n",
    "    result['sample {}'.format(sample)]=predict_test(x_test, data_path, sample, metric='cosine_similarity', pair='cross_similarities', save_threshold=True, save_path=save_threshold_path)"
   ]
  },
  {
   "cell_type": "markdown",
   "metadata": {},
   "source": [
    "##### Lưu Kết quả"
   ]
  },
  {
   "cell_type": "code",
   "execution_count": 16,
   "metadata": {},
   "outputs": [],
   "source": [
    "save_result(result, os.path.join(save_path, 'cross_similarities'), 'adaptive_result_cosine')"
   ]
  },
  {
   "cell_type": "markdown",
   "metadata": {},
   "source": [
    "### Auto similarities"
   ]
  },
  {
   "cell_type": "markdown",
   "metadata": {},
   "source": [
    "#### Euclidean distance"
   ]
  },
  {
   "cell_type": "markdown",
   "metadata": {},
   "source": [
    "##### Lấy kết quả dự đoán "
   ]
  },
  {
   "cell_type": "code",
   "execution_count": 17,
   "metadata": {},
   "outputs": [],
   "source": [
    "update_threshold_path = os.path.join(update_path, 'threshold', 'auto_similarities', 'euclidean')\n",
    "if not os.path.exists(update_threshold_path):\n",
    "    os.makedirs(update_threshold_path)"
   ]
  },
  {
   "cell_type": "code",
   "execution_count": 18,
   "metadata": {},
   "outputs": [],
   "source": [
    "result = {}\n",
    "for sample in sample_list:\n",
    "    save_threshold_path = os.path.join(update_threshold_path, 'sample_{}_threshold.csv'.format(sample))\n",
    "    result['sample {}'.format(sample)]=predict_test(x_test, data_path, sample, metric='euclidean_distance', pair='auto_similarities', save_threshold=True, save_path=save_threshold_path)"
   ]
  },
  {
   "cell_type": "markdown",
   "metadata": {},
   "source": [
    "##### Lưu kết quả"
   ]
  },
  {
   "cell_type": "code",
   "execution_count": 19,
   "metadata": {},
   "outputs": [],
   "source": [
    "save_result(result, os.path.join(save_path, 'auto_similarities'), 'adaptive_result_euclidean')"
   ]
  },
  {
   "cell_type": "markdown",
   "metadata": {},
   "source": [
    "#### Cosine similarity"
   ]
  },
  {
   "cell_type": "markdown",
   "metadata": {},
   "source": [
    "##### Lấy kết quả dự đoán"
   ]
  },
  {
   "cell_type": "code",
   "execution_count": 20,
   "metadata": {},
   "outputs": [],
   "source": [
    "update_threshold_path = os.path.join(update_path, 'threshold', 'auto_similarities', 'cosine')\n",
    "if not os.path.exists(update_threshold_path):\n",
    "    os.makedirs(update_threshold_path)"
   ]
  },
  {
   "cell_type": "code",
   "execution_count": 21,
   "metadata": {},
   "outputs": [],
   "source": [
    "result = {}\n",
    "for sample in sample_list:\n",
    "    save_threshold_path = os.path.join(update_threshold_path, 'sample_{}_threshold.csv'.format(sample))\n",
    "    result['sample {}'.format(sample)]=predict_test(x_test, data_path, sample, metric='cosine_similarity', pair='auto_similarities', save_threshold=True, save_path=save_threshold_path)"
   ]
  },
  {
   "cell_type": "markdown",
   "metadata": {},
   "source": [
    "##### Lưu kết quả"
   ]
  },
  {
   "cell_type": "code",
   "execution_count": 22,
   "metadata": {},
   "outputs": [],
   "source": [
    "save_result(result, os.path.join(save_path, 'auto_similarities'), 'adaptive_result_cosine')"
   ]
  }
 ],
 "metadata": {
  "kernelspec": {
   "display_name": "Python 3.9.12 ('venv': venv)",
   "language": "python",
   "name": "python3"
  },
  "language_info": {
   "codemirror_mode": {
    "name": "ipython",
    "version": 3
   },
   "file_extension": ".py",
   "mimetype": "text/x-python",
   "name": "python",
   "nbconvert_exporter": "python",
   "pygments_lexer": "ipython3",
   "version": "3.9.12"
  },
  "orig_nbformat": 4,
  "vscode": {
   "interpreter": {
    "hash": "edfc85cd6125fba325e43936d2e325e30e1e9112067751a66c5c52e50407c2e9"
   }
  }
 },
 "nbformat": 4,
 "nbformat_minor": 2
}
