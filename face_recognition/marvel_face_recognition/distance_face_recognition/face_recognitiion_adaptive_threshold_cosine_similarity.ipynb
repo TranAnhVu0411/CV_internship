{
 "cells": [
  {
   "cell_type": "code",
   "execution_count": 1,
   "metadata": {},
   "outputs": [],
   "source": [
    "from sklearn.metrics.pairwise import cosine_similarity\n",
    "from sklearn.metrics import accuracy_score\n",
    "import json\n",
    "import os\n",
    "import ast\n",
    "import pandas as pd\n",
    "import numpy as np\n",
    "import create_directory\n",
    "import pathlib"
   ]
  },
  {
   "cell_type": "markdown",
   "metadata": {},
   "source": [
    "# Load dữ liệu"
   ]
  },
  {
   "cell_type": "code",
   "execution_count": 2,
   "metadata": {},
   "outputs": [],
   "source": [
    "# label2idx\n",
    "with open(os.path.join(create_directory.recognition_model_dir, 'label2idx.json')) as json_file:\n",
    "    label2idx = json.load(json_file)\n",
    "\n",
    "# Load dữ liệu test\n",
    "test_data_path = os.path.join(create_directory.marvel_data_dir, \"distance_face_recognition/fixed_threshold\")\n",
    "with open(os.path.join(test_data_path, \"test_feature_big.json\"), \"r\") as outfile:\n",
    "    x_test = json.load(outfile)\n",
    "with open(os.path.join(test_data_path, \"test_label_idx_big.json\"), \"r\") as outfile:\n",
    "    y_test = json.load(outfile)"
   ]
  },
  {
   "cell_type": "markdown",
   "metadata": {},
   "source": [
    "# Face Recognition"
   ]
  },
  {
   "cell_type": "code",
   "execution_count": 3,
   "metadata": {},
   "outputs": [],
   "source": [
    "# Hàm Load dữ liệu train\n",
    "def create_train_feature(data_path, register_order_path, num_register):\n",
    "    data = pd.read_csv(data_path)\n",
    "    data['feature'] = [ast.literal_eval(i) for i in data[\"feature\"]]\n",
    "    with open(register_order_path, \"r\") as outfile:\n",
    "        order = json.load(outfile)\n",
    "    order = order[:num_register]\n",
    "    return data, order"
   ]
  },
  {
   "cell_type": "code",
   "execution_count": 4,
   "metadata": {},
   "outputs": [],
   "source": [
    "# Hàm cập nhật threshold\n",
    "def update_threshold(data, order):\n",
    "    threshold_data = pd.DataFrame({'feature': [], 'label': [], 'threshold': [], 'idx': []})\n",
    "    threshold_data = threshold_data.astype({\"feature\": object, \"label\": int, 'threshold': float, 'idx': int})\n",
    "    for i in order:\n",
    "        register_data = data[data['idx']==i].to_dict(orient=\"records\")[0]\n",
    "        similarity_score = []\n",
    "        for i in range(len(threshold_data)):\n",
    "            item = {}\n",
    "            if threshold_data.iloc[i]['label']!=register_data['label']:\n",
    "                item['idx']=threshold_data.iloc[i]['idx']\n",
    "                item['similarity']=cosine_similarity(np.array(threshold_data.iloc[i]['feature']).reshape(1, -1), np.array(register_data['feature']).reshape(1, -1))[0][0]\n",
    "                similarity_score.append(item)\n",
    "        for item in similarity_score:\n",
    "            threshold_data.loc[threshold_data['idx']==item['idx'], 'threshold']=max(threshold_data.loc[threshold_data['idx']==item['idx']]['threshold'].item(), item['similarity'])\n",
    "        register_data['threshold'] = max([item[\"similarity\"] for item in similarity_score]+[register_data['threshold']])\n",
    "        new_row = pd.DataFrame({'feature':[register_data['feature']], 'label': [register_data['label']], 'threshold':[register_data['threshold']], 'idx':[register_data['idx']]})\n",
    "        threshold_data = pd.concat([threshold_data, new_row])\n",
    "    return threshold_data"
   ]
  },
  {
   "cell_type": "code",
   "execution_count": 5,
   "metadata": {},
   "outputs": [],
   "source": [
    "# Hàm dự đoán\n",
    "def predict(feat, threshold_data):\n",
    "    candidate_similarity=[]\n",
    "    for i in range(len(threshold_data)):\n",
    "        similarity = cosine_similarity(np.array(threshold_data.iloc[i]['feature']).reshape(1, -1), np.array(feat).reshape(1, -1))[0][0]\n",
    "        candidate_similarity.append(similarity)\n",
    "    max_similarity = max(candidate_similarity)\n",
    "    idx = candidate_similarity.index(max_similarity)\n",
    "    if max_similarity > threshold_data.iloc[idx]['threshold']:\n",
    "        return threshold_data.iloc[idx]['label']\n",
    "    else:\n",
    "        return label2idx['Unknown']"
   ]
  },
  {
   "cell_type": "code",
   "execution_count": 6,
   "metadata": {},
   "outputs": [],
   "source": [
    "def predict_test(x_test, data_path, order_path, num_register, save_threshold=\"False\", save_path=\"\"):\n",
    "    data, order = create_train_feature(data_path, order_path, num_register)\n",
    "    threshold_data = update_threshold(data, order)\n",
    "    if save_threshold:\n",
    "        threshold_data.to_csv(save_path, index=False)\n",
    "    pred = [predict(feat, threshold_data) for feat in x_test]\n",
    "    return pred"
   ]
  },
  {
   "cell_type": "code",
   "execution_count": 7,
   "metadata": {},
   "outputs": [],
   "source": [
    "train_data_path = os.path.join(create_directory.marvel_data_dir, \"distance_face_recognition/adaptive_threshold\")\n",
    "update_threshold_path = os.path.join(train_data_path, 'threshold', 'cosine')\n",
    "if not os.path.exists(update_threshold_path):\n",
    "    os.makedirs(update_threshold_path)\n",
    "data_path = os.path.join(train_data_path, \"feature_cosine.csv\")\n",
    "order_path = os.path.join(train_data_path, \"order\")\n",
    "order_path_list = [os.path.join(order_path, i) for i in os.listdir(order_path)]\n",
    "num_register_list = [30, 60, 120, 300, 600, 900]"
   ]
  },
  {
   "cell_type": "code",
   "execution_count": 8,
   "metadata": {},
   "outputs": [
    {
     "name": "stdout",
     "output_type": "stream",
     "text": [
      "/Users/trananhvu/Documents/Data-Face-Recognition/Marvel/distance_face_recognition/adaptive_threshold/order/register_order_1.json\n",
      "    -Num register: 30\n",
      "    -Num register: 60\n",
      "    -Num register: 120\n",
      "    -Num register: 300\n",
      "    -Num register: 600\n",
      "    -Num register: 900\n",
      "/Users/trananhvu/Documents/Data-Face-Recognition/Marvel/distance_face_recognition/adaptive_threshold/order/register_order_0.json\n",
      "    -Num register: 30\n",
      "    -Num register: 60\n",
      "    -Num register: 120\n",
      "    -Num register: 300\n",
      "    -Num register: 600\n",
      "    -Num register: 900\n",
      "/Users/trananhvu/Documents/Data-Face-Recognition/Marvel/distance_face_recognition/adaptive_threshold/order/register_order_3.json\n",
      "    -Num register: 30\n",
      "    -Num register: 60\n",
      "    -Num register: 120\n",
      "    -Num register: 300\n",
      "    -Num register: 600\n",
      "    -Num register: 900\n",
      "/Users/trananhvu/Documents/Data-Face-Recognition/Marvel/distance_face_recognition/adaptive_threshold/order/register_order_2.json\n",
      "    -Num register: 30\n",
      "    -Num register: 60\n",
      "    -Num register: 120\n",
      "    -Num register: 300\n",
      "    -Num register: 600\n",
      "    -Num register: 900\n",
      "/Users/trananhvu/Documents/Data-Face-Recognition/Marvel/distance_face_recognition/adaptive_threshold/order/register_order_4.json\n",
      "    -Num register: 30\n",
      "    -Num register: 60\n",
      "    -Num register: 120\n",
      "    -Num register: 300\n",
      "    -Num register: 600\n",
      "    -Num register: 900\n"
     ]
    }
   ],
   "source": [
    "result = {}\n",
    "for path in order_path_list:\n",
    "    result[path]={}\n",
    "    print(path)\n",
    "    for num_register in num_register_list:\n",
    "        print(\"    -Num register: {}\".format(num_register))\n",
    "        save_threshold_path = os.path.join(update_threshold_path, pathlib.Path(path).stem+'_num_register_'+str(num_register)+'.csv')\n",
    "        pred = predict_test(x_test, data_path, path, num_register, save_threshold=True, save_path=save_threshold_path)\n",
    "        result[path][num_register] = pred"
   ]
  },
  {
   "cell_type": "code",
   "execution_count": 9,
   "metadata": {},
   "outputs": [],
   "source": [
    "result_df = {\"order_path\": [], \"num_register\": [], \"result\": []}\n",
    "for order_path, item in result.items():\n",
    "    for num_register, pred in item.items():\n",
    "        result_df[\"order_path\"].append(order_path)\n",
    "        result_df[\"num_register\"].append(num_register)\n",
    "        result_df[\"result\"].append(pred)\n",
    "df = pd.DataFrame(result_df)"
   ]
  },
  {
   "cell_type": "markdown",
   "metadata": {},
   "source": [
    "# Kết quả"
   ]
  },
  {
   "cell_type": "code",
   "execution_count": 10,
   "metadata": {},
   "outputs": [],
   "source": [
    "def metric(true, pred):\n",
    "    fa = 0  # False accept\n",
    "    wa = 0  # Wrong answer\n",
    "    fr = 0  # False reject\n",
    "    accept = 0\n",
    "    reject = 0\n",
    "\n",
    "    for (i, j) in zip(true, pred):\n",
    "        # Hệ thống nhận diện khuôn mặt đó có trong database\n",
    "        if j != label2idx[\"Unknown\"]:\n",
    "            accept+=1\n",
    "            # Hệ thống nhận diện khuôn mặt Unknown thành khuôn mặt trong database\n",
    "            if i == label2idx[\"Unknown\"]:\n",
    "                fa+=1\n",
    "            else:\n",
    "                # Hệ thống nhận diện nhầm khuôn mặt trong database\n",
    "                if i!=j:\n",
    "                    wa+=1\n",
    "        else:\n",
    "            reject+=1\n",
    "            if i != label2idx[\"Unknown\"]:\n",
    "                fr+=1\n",
    "    # Mong muốn giảm fa, wa\n",
    "    return (fa, wa, fr, accept, reject)"
   ]
  },
  {
   "cell_type": "code",
   "execution_count": 11,
   "metadata": {},
   "outputs": [],
   "source": [
    "save_path = os.path.join(create_directory.result_dir, 'test_threshold/adaptive_threshold')\n",
    "if not os.path.exists(save_path):\n",
    "    os.makedirs(save_path)\n",
    "\n",
    "order_list, num_register, fa_list, wa_list, fr_list, accept_list, reject_list, accuracy_list = [], [], [], [], [], [], [], []\n",
    "for i in range(len(df)):\n",
    "    fa, wa, fr, accept, reject = metric(y_test, df.iloc[i]['result'])\n",
    "    acc = accuracy_score(y_test, df.iloc[i]['result'])\n",
    "    order_list.append(pathlib.Path(df.iloc[i]['order_path']).stem)\n",
    "    num_register.append(df.iloc[i]['num_register'])\n",
    "    fa_list.append(fa)\n",
    "    wa_list.append(wa)\n",
    "    fr_list.append(fr)\n",
    "    accept_list.append(accept)\n",
    "    reject_list.append(reject)\n",
    "    accuracy_list.append(acc)\n",
    "result_dict = {'order': order_list, 'num_register': num_register, 'accept': accept_list, 'fa': fa_list, 'wa': wa_list, \n",
    "            'reject': reject_list, 'fr': fr_list, 'accuracy': accuracy_list}\n",
    "df = pd.DataFrame(result_dict)\n",
    "df.to_csv(os.path.join(save_path, 'adaptive-result-cosine.csv'), index=False)     "
   ]
  }
 ],
 "metadata": {
  "kernelspec": {
   "display_name": "Python 3.9.12 ('venv': venv)",
   "language": "python",
   "name": "python3"
  },
  "language_info": {
   "codemirror_mode": {
    "name": "ipython",
    "version": 3
   },
   "file_extension": ".py",
   "mimetype": "text/x-python",
   "name": "python",
   "nbconvert_exporter": "python",
   "pygments_lexer": "ipython3",
   "version": "3.9.12"
  },
  "orig_nbformat": 4,
  "vscode": {
   "interpreter": {
    "hash": "edfc85cd6125fba325e43936d2e325e30e1e9112067751a66c5c52e50407c2e9"
   }
  }
 },
 "nbformat": 4,
 "nbformat_minor": 2
}
