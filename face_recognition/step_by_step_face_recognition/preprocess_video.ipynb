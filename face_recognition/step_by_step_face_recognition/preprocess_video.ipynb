{
 "cells": [
  {
   "cell_type": "markdown",
   "metadata": {},
   "source": [
    "Test video link list:\n",
    "- https://www.youtube.com/watch?v=5sVmP_sBKKc\n",
    "- https://www.youtube.com/watch?v=4H8hcvNeWtg\n",
    "- https://www.youtube.com/watch?v=jQBQ1GU2h8M\n",
    "- https://www.youtube.com/watch?v=HuqaHzKxG9E"
   ]
  },
  {
   "cell_type": "code",
   "execution_count": 8,
   "metadata": {},
   "outputs": [],
   "source": [
    "import cv2\n",
    "import numpy as np\n",
    "import os"
   ]
  },
  {
   "cell_type": "code",
   "execution_count": 2,
   "metadata": {},
   "outputs": [],
   "source": [
    "def show_video(video_path):\n",
    "    # Create a VideoCapture object and read from input file\n",
    "    cap = cv2.VideoCapture(video_path)\n",
    "    \n",
    "    # Check if camera opened successfully\n",
    "    if (cap.isOpened()== False): \n",
    "        print(\"Error opening video  file\")\n",
    "    \n",
    "    # Read until video is completed\n",
    "    while(cap.isOpened()):\n",
    "        \n",
    "        # Capture frame-by-frame\n",
    "        ret, frame = cap.read()\n",
    "        if ret == True:\n",
    "        \n",
    "            # Display the resulting frame\n",
    "            cv2.imshow('Frame', frame)\n",
    "        \n",
    "            # Press Q on keyboard to  exit\n",
    "            if cv2.waitKey(25) & 0xFF == ord('q'):\n",
    "                break   \n",
    "        \n",
    "        # Break the loop\n",
    "        else: \n",
    "            break\n",
    "    \n",
    "    # When everything done, release \n",
    "    # the video capture object\n",
    "    cap.release()\n",
    "   \n",
    "# Closes all the frames\n",
    "cv2.destroyAllWindows()"
   ]
  },
  {
   "cell_type": "code",
   "execution_count": 7,
   "metadata": {},
   "outputs": [],
   "source": [
    "def get_frame_count(video_path):\n",
    "    cap = cv2.VideoCapture(video_path)\n",
    "    length = int(cap.get(cv2.CAP_PROP_FRAME_COUNT))\n",
    "    print( length )"
   ]
  },
  {
   "cell_type": "code",
   "execution_count": 11,
   "metadata": {},
   "outputs": [
    {
     "data": {
      "text/plain": [
       "5421.0"
      ]
     },
     "execution_count": 11,
     "metadata": {},
     "output_type": "execute_result"
    }
   ],
   "source": [
    "import cv2\n",
    "video_path = \"/Users/trananhvu/Documents/CV/data/video/the best of tom holland and rdj.mp4\"\n",
    "cap = cv2.VideoCapture(video_path)\n",
    "cap.get(cv2.CAP_PROP_FRAME_COUNT)"
   ]
  },
  {
   "cell_type": "code",
   "execution_count": 10,
   "metadata": {},
   "outputs": [
    {
     "data": {
      "text/plain": [
       "29.97002997002997"
      ]
     },
     "execution_count": 10,
     "metadata": {},
     "output_type": "execute_result"
    }
   ],
   "source": [
    "cap.get(cv2.CAP_PROP_FPS)"
   ]
  },
  {
   "cell_type": "code",
   "execution_count": null,
   "metadata": {},
   "outputs": [],
   "source": [
    "writer = cv2.VideoWriter(os.path.join(save_path, file_name+\".mp4\"),\n",
    "                         int(cap.get(cv2.CAP_PROP_FOURCC)),int(cap.get(cv2.CAP_PROP_FPS), (cap.get(cv2.CAP_PROP_FRAME_HEIGHT), cap.get(cv2.CAP_PROP_FRAME_WIDTH)))"
   ]
  },
  {
   "cell_type": "code",
   "execution_count": 11,
   "metadata": {},
   "outputs": [
    {
     "name": "stdout",
     "output_type": "stream",
     "text": [
      "2181\n",
      "3075\n",
      "1455\n",
      "5421\n"
     ]
    }
   ],
   "source": [
    "video_path = \"/Users/trananhvu/Documents/CV/data/video\"\n",
    "for i in os.listdir(video_path):\n",
    "    if i==\".DS_Store\":\n",
    "        continue\n",
    "    get_frame_count(os.path.join(video_path, i))"
   ]
  }
 ],
 "metadata": {
  "kernelspec": {
   "display_name": "Python 3.9.12 ('venv': venv)",
   "language": "python",
   "name": "python3"
  },
  "language_info": {
   "codemirror_mode": {
    "name": "ipython",
    "version": 3
   },
   "file_extension": ".py",
   "mimetype": "text/x-python",
   "name": "python",
   "nbconvert_exporter": "python",
   "pygments_lexer": "ipython3",
   "version": "3.9.12"
  },
  "orig_nbformat": 4,
  "vscode": {
   "interpreter": {
    "hash": "edfc85cd6125fba325e43936d2e325e30e1e9112067751a66c5c52e50407c2e9"
   }
  }
 },
 "nbformat": 4,
 "nbformat_minor": 2
}
