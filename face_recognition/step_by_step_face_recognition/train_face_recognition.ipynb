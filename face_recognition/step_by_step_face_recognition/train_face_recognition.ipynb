{
 "cells": [
  {
   "cell_type": "code",
   "execution_count": 1,
   "metadata": {},
   "outputs": [],
   "source": [
    "from sklearn.model_selection import train_test_split\n",
    "from sklearn.metrics import accuracy_score, confusion_matrix\n",
    "from sklearn.neighbors import KNeighborsClassifier\n",
    "from sklearn.model_selection import GridSearchCV\n",
    "from sklearn import svm\n",
    "import numpy as np\n",
    "import os\n",
    "import json\n",
    "import joblib\n",
    "import pandas as pd\n",
    "import seaborn as sn\n",
    "import matplotlib.pyplot as plt"
   ]
  },
  {
   "cell_type": "markdown",
   "metadata": {},
   "source": [
    "# Load feature vector"
   ]
  },
  {
   "cell_type": "code",
   "execution_count": 2,
   "metadata": {},
   "outputs": [],
   "source": [
    "feature_path = \"/Users/trananhvu/Documents/CV/data/feature\"\n",
    "# HOG + Openface\n",
    "hog_openface_feature_path = os.path.join(feature_path, \"hog_openface\")\n",
    "# MTCNN + Facenet\n",
    "mtcnn_facenet_feature_path = os.path.join(feature_path, \"mtcnn_facenet\")"
   ]
  },
  {
   "cell_type": "code",
   "execution_count": 3,
   "metadata": {},
   "outputs": [],
   "source": [
    "def get_feature(feature_path, feature_extraction_type):\n",
    "    list_feature = []\n",
    "    list_label = []\n",
    "    if feature_extraction_type==\"openface\":\n",
    "        size = 128\n",
    "    elif feature_extraction_type==\"facenet\":\n",
    "        size = 512\n",
    "    for i in os.listdir(feature_path):\n",
    "        if i==\".DS_Store\":\n",
    "            continue\n",
    "        for j in os.listdir(os.path.join(feature_path, i)):\n",
    "            if j==\".DS_Store\":\n",
    "                continue\n",
    "            list_label.append(i)\n",
    "            feature=np.load(os.path.join(os.path.join(feature_path, i), j))\n",
    "            list_feature.append(feature.reshape(size).tolist())\n",
    "    return list_label, list_feature"
   ]
  },
  {
   "cell_type": "code",
   "execution_count": 4,
   "metadata": {},
   "outputs": [],
   "source": [
    "list_label_hog, list_hog_openface_feature = get_feature(hog_openface_feature_path, feature_extraction_type=\"openface\")\n",
    "list_label_mtcnn, list_mtcnn_facenet_feature = get_feature(mtcnn_facenet_feature_path, feature_extraction_type=\"facenet\")"
   ]
  },
  {
   "cell_type": "markdown",
   "metadata": {},
   "source": [
    "# Prepare for training"
   ]
  },
  {
   "cell_type": "code",
   "execution_count": 6,
   "metadata": {},
   "outputs": [],
   "source": [
    "# Face label to index\n",
    "count=0\n",
    "label_2_idx = {}\n",
    "hog_idx_list = []\n",
    "mtcnn_idx_list = []\n",
    "for i in list_label_hog:\n",
    "    if i not in label_2_idx:\n",
    "        label_2_idx[i]=count\n",
    "        count+=1\n",
    "    hog_idx_list.append(label_2_idx[i])\n",
    "for i in list_label_mtcnn:\n",
    "    mtcnn_idx_list.append(label_2_idx[i])"
   ]
  },
  {
   "cell_type": "code",
   "execution_count": 7,
   "metadata": {},
   "outputs": [
    {
     "data": {
      "text/plain": [
       "{'Robert Downey Jr': 0,\n",
       " 'Chris Evans': 1,\n",
       " 'Mark Ruffalo': 2,\n",
       " 'Chris Hemsworth': 3,\n",
       " 'Scarlett Johansson': 4,\n",
       " 'Unknown': 5,\n",
       " 'Tom Holland': 6}"
      ]
     },
     "execution_count": 7,
     "metadata": {},
     "output_type": "execute_result"
    }
   ],
   "source": [
    "label_2_idx"
   ]
  },
  {
   "cell_type": "code",
   "execution_count": 8,
   "metadata": {},
   "outputs": [],
   "source": [
    "model_path = \"/Users/trananhvu/Documents/CV/CV_internship/face_recognition/step_by_step_face_recognition/model\"\n",
    "svm_model_hog_openface_path = os.path.join(model_path, \"hog_openface_svm_model.sav\")\n",
    "svm_model_mtcnn_facenet_path = os.path.join(model_path, \"mtcnn_facenet_svm_model.sav\")\n",
    "knn_model_hog_openface_path = os.path.join(model_path, \"hog_openface_knn_model.sav\")\n",
    "knn_model_mtcnn_facenet_path = os.path.join(model_path, \"mtcnn_facenet_knn_model.sav\")"
   ]
  },
  {
   "cell_type": "code",
   "execution_count": 9,
   "metadata": {},
   "outputs": [],
   "source": [
    "with open(os.path.join(model_path, \"face2idx.json\"), \"w\") as outfile:\n",
    "    json.dump(label_2_idx, outfile)"
   ]
  },
  {
   "cell_type": "markdown",
   "metadata": {},
   "source": [
    "# Face recognition"
   ]
  },
  {
   "cell_type": "markdown",
   "metadata": {},
   "source": [
    "## SVM"
   ]
  },
  {
   "cell_type": "markdown",
   "metadata": {},
   "source": [
    "### HOG + Openface "
   ]
  },
  {
   "cell_type": "code",
   "execution_count": 15,
   "metadata": {},
   "outputs": [
    {
     "name": "stdout",
     "output_type": "stream",
     "text": [
      "Fitting the classifier to the training set\n",
      "Best estimator found by grid search:\n",
      "SVC(C=10000.0, class_weight='balanced', gamma=0.0001)\n"
     ]
    },
    {
     "data": {
      "text/plain": [
       "['/Users/trananhvu/Documents/CV/CV_internship/face_recognition/step_by_step_face_recognition/model/hog_openface_svm_model.sav']"
      ]
     },
     "execution_count": 15,
     "metadata": {},
     "output_type": "execute_result"
    }
   ],
   "source": [
    "# Train test split\n",
    "x_train, x_test, y_train, y_test = train_test_split(list_hog_openface_feature, hog_idx_list, test_size=0.33,\n",
    "                                                    random_state=4, stratify=hog_idx_list)\n",
    "# Training SVM model\n",
    "print(\"Fitting the classifier to the training set\")\n",
    "param_grid = {\n",
    "         'C': [1e3, 5e3, 1e4, 5e4, 1e5],\n",
    "          'gamma': [0.0001, 0.0005, 0.001, 0.005, 0.01, 0.1],\n",
    "          }\n",
    "clf = GridSearchCV(svm.SVC(kernel='rbf', class_weight='balanced'), param_grid)\n",
    "clf = clf.fit(x_train, y_train)\n",
    "print(\"Best estimator found by grid search:\")\n",
    "print(clf.best_estimator_)\n",
    "# Save model\n",
    "joblib.dump(clf, svm_model_hog_openface_path)"
   ]
  },
  {
   "cell_type": "code",
   "execution_count": 95,
   "metadata": {},
   "outputs": [
    {
     "name": "stdout",
     "output_type": "stream",
     "text": [
      "HOG + Openface + SVM accuracy: \n"
     ]
    },
    {
     "data": {
      "text/plain": [
       "0.892271662763466"
      ]
     },
     "execution_count": 95,
     "metadata": {},
     "output_type": "execute_result"
    }
   ],
   "source": [
    "print(\"HOG + Openface + SVM accuracy: \")\n",
    "y_pred = clf.predict(x_test)\n",
    "accuracy_score(y_test, y_pred)"
   ]
  },
  {
   "cell_type": "code",
   "execution_count": 13,
   "metadata": {},
   "outputs": [],
   "source": [
    "idx_2_face = {y: x for x, y in label_2_idx.items()}\n",
    "def plot_confusion_matrix(array):\n",
    "    df_cm = pd.DataFrame(array, index = [idx_2_face[i] for i in range(7)], \n",
    "                        columns = [idx_2_face[i] for i in range(7)])\n",
    "    sn.heatmap(df_cm, annot=True, annot_kws={\"size\": 16}) # font size\n",
    "    plt.show()"
   ]
  },
  {
   "cell_type": "code",
   "execution_count": 97,
   "metadata": {},
   "outputs": [
    {
     "data": {
      "image/png": "[encoded data removed]",
      "text/plain": [
       "<Figure size 432x288 with 2 Axes>"
      ]
     },
     "metadata": {
      "needs_background": "light"
     },
     "output_type": "display_data"
    }
   ],
   "source": [
    "array = confusion_matrix(y_test, y_pred)\n",
    "plot_confusion_matrix(array)"
   ]
  },
  {
   "cell_type": "markdown",
   "metadata": {},
   "source": [
    "### MTCNN + Facenet "
   ]
  },
  {
   "cell_type": "code",
   "execution_count": 70,
   "metadata": {},
   "outputs": [
    {
     "name": "stdout",
     "output_type": "stream",
     "text": [
      "Fitting the classifier to the training set\n",
      "Best estimator found by grid search:\n",
      "SVC(C=1000.0, class_weight='balanced', gamma=0.1)\n"
     ]
    },
    {
     "data": {
      "text/plain": [
       "['/Users/trananhvu/Documents/CV/CV_internship/face_recognition/step_by_step_face_recognition/model/mtcnn_facenet_svm_model.sav']"
      ]
     },
     "execution_count": 70,
     "metadata": {},
     "output_type": "execute_result"
    }
   ],
   "source": [
    "# Train test split\n",
    "x_train, x_test, y_train, y_test = train_test_split(list_mtcnn_facenet_feature, mtcnn_idx_list, test_size=0.33,\n",
    "                                                    random_state=4, stratify=mtcnn_idx_list)\n",
    "# Training SVM model\n",
    "print(\"Fitting the classifier to the training set\")\n",
    "param_grid = {\n",
    "         'C': [1e3, 5e3, 1e4, 5e4, 1e5],\n",
    "          'gamma': [0.0001, 0.0005, 0.001, 0.005, 0.01, 0.1],\n",
    "          }\n",
    "clf = GridSearchCV(svm.SVC(kernel='rbf', class_weight='balanced'), param_grid)\n",
    "clf = clf.fit(x_train, y_train)\n",
    "print(\"Best estimator found by grid search:\")\n",
    "print(clf.best_estimator_)\n",
    "# Save model\n",
    "joblib.dump(clf, svm_model_mtcnn_facenet_path)"
   ]
  },
  {
   "cell_type": "code",
   "execution_count": 71,
   "metadata": {},
   "outputs": [
    {
     "name": "stdout",
     "output_type": "stream",
     "text": [
      "MTCNN + Facenet + SVM accuracy: \n"
     ]
    },
    {
     "data": {
      "text/plain": [
       "0.9902439024390244"
      ]
     },
     "execution_count": 71,
     "metadata": {},
     "output_type": "execute_result"
    }
   ],
   "source": [
    "print(\"MTCNN + Facenet + SVM accuracy: \")\n",
    "y_pred_svm = clf.predict(x_test)\n",
    "accuracy_score(y_test, y_pred_svm)"
   ]
  },
  {
   "cell_type": "markdown",
   "metadata": {},
   "source": [
    "## KNN"
   ]
  },
  {
   "cell_type": "markdown",
   "metadata": {},
   "source": [
    "### HOG + Openface "
   ]
  },
  {
   "cell_type": "code",
   "execution_count": 10,
   "metadata": {},
   "outputs": [
    {
     "name": "stdout",
     "output_type": "stream",
     "text": [
      "Best estimator found by grid search:\n",
      "KNeighborsClassifier(n_neighbors=3, weights='distance')\n"
     ]
    },
    {
     "data": {
      "text/plain": [
       "['/Users/trananhvu/Documents/CV/CV_internship/face_recognition/step_by_step_face_recognition/model/hog_openface_knn_model.sav']"
      ]
     },
     "execution_count": 10,
     "metadata": {},
     "output_type": "execute_result"
    }
   ],
   "source": [
    "x_train, x_test, y_train, y_test = train_test_split(list_hog_openface_feature, hog_idx_list, test_size=0.33,\n",
    "                                                    random_state=4, stratify=hog_idx_list)\n",
    "# Training KNN model\n",
    "param_grid = {\n",
    "        'n_neighbors': [3, 5, 7]\n",
    "        }\n",
    "clf = GridSearchCV(KNeighborsClassifier(weights='distance'), param_grid)\n",
    "clf.fit(x_train, y_train)\n",
    "print(\"Best estimator found by grid search:\")\n",
    "print(clf.best_estimator_)\n",
    "# Save model\n",
    "joblib.dump(clf, knn_model_hog_openface_path)"
   ]
  },
  {
   "cell_type": "code",
   "execution_count": 11,
   "metadata": {},
   "outputs": [
    {
     "name": "stdout",
     "output_type": "stream",
     "text": [
      "HOG + Openface + KNN accuracy: \n"
     ]
    },
    {
     "data": {
      "text/plain": [
       "0.9016393442622951"
      ]
     },
     "execution_count": 11,
     "metadata": {},
     "output_type": "execute_result"
    }
   ],
   "source": [
    "print(\"HOG + Openface + KNN accuracy: \")\n",
    "y_pred = clf.predict(x_test)\n",
    "accuracy_score(y_test, y_pred)"
   ]
  },
  {
   "cell_type": "code",
   "execution_count": 14,
   "metadata": {},
   "outputs": [
    {
     "data": {
      "image/png": "[encoded data removed]",
      "text/plain": [
       "<Figure size 432x288 with 2 Axes>"
      ]
     },
     "metadata": {
      "needs_background": "light"
     },
     "output_type": "display_data"
    }
   ],
   "source": [
    "array = confusion_matrix(y_test, y_pred)\n",
    "plot_confusion_matrix(array)"
   ]
  },
  {
   "cell_type": "markdown",
   "metadata": {},
   "source": [
    "### MTCNN + Facenet"
   ]
  },
  {
   "cell_type": "code",
   "execution_count": 74,
   "metadata": {},
   "outputs": [
    {
     "name": "stdout",
     "output_type": "stream",
     "text": [
      "Best estimator found by grid search:\n",
      "KNeighborsClassifier(n_neighbors=3)\n"
     ]
    },
    {
     "data": {
      "text/plain": [
       "['/Users/trananhvu/Documents/CV/CV_internship/face_recognition/step_by_step_face_recognition/model/mtcnn_facenet_knn_model.sav']"
      ]
     },
     "execution_count": 74,
     "metadata": {},
     "output_type": "execute_result"
    }
   ],
   "source": [
    "# Train test split\n",
    "x_train, x_test, y_train, y_test = train_test_split(list_mtcnn_facenet_feature, mtcnn_idx_list, test_size=0.33,\n",
    "                                                    random_state=4, stratify=mtcnn_idx_list)\n",
    "# Training KNN model\n",
    "param_grid = {\n",
    "        'n_neighbors': [3, 5, 7]\n",
    "        }\n",
    "clf = GridSearchCV(KNeighborsClassifier(), param_grid)\n",
    "clf.fit(x_train, y_train)\n",
    "print(\"Best estimator found by grid search:\")\n",
    "print(clf.best_estimator_)\n",
    "# Save model\n",
    "joblib.dump(clf, knn_model_mtcnn_facenet_path)"
   ]
  },
  {
   "cell_type": "code",
   "execution_count": 75,
   "metadata": {},
   "outputs": [
    {
     "name": "stdout",
     "output_type": "stream",
     "text": [
      "MTCNN + Facenet + KNN accuracy: \n"
     ]
    },
    {
     "data": {
      "text/plain": [
       "0.9780487804878049"
      ]
     },
     "execution_count": 75,
     "metadata": {},
     "output_type": "execute_result"
    }
   ],
   "source": [
    "print(\"MTCNN + Facenet + KNN accuracy: \")\n",
    "y_pred = clf.predict(x_test)\n",
    "accuracy_score(y_test, y_pred)"
   ]
  },
  {
   "cell_type": "markdown",
   "metadata": {},
   "source": [
    "## KNN + Distance threshold"
   ]
  },
  {
   "cell_type": "markdown",
   "metadata": {},
   "source": [
    "Ta chỉ xét hog+openface"
   ]
  },
  {
   "cell_type": "code",
   "execution_count": 33,
   "metadata": {},
   "outputs": [],
   "source": [
    "def get_feature(feature_path):\n",
    "    list_feature = []\n",
    "    list_label = []\n",
    "    label_unknown = 0\n",
    "    list_feature_unknown = []\n",
    "    size = 128\n",
    "    for i in os.listdir(feature_path):\n",
    "        if i==\".DS_Store\":\n",
    "            continue\n",
    "        for j in os.listdir(os.path.join(feature_path, i)):\n",
    "            if j==\".DS_Store\":\n",
    "                continue\n",
    "            feature=np.load(os.path.join(os.path.join(feature_path, i), j))\n",
    "            if i==\"Unknown\":\n",
    "                list_feature_unknown.append(feature.reshape(size).tolist())\n",
    "            if i!=\"Unknown\":    \n",
    "                list_label.append(i)\n",
    "                list_feature.append(feature.reshape(size).tolist())\n",
    "    return list_label, list_feature, list_feature_unknown"
   ]
  },
  {
   "cell_type": "code",
   "execution_count": 34,
   "metadata": {},
   "outputs": [],
   "source": [
    "list_label, list_feature, list_feature_unknown = get_feature(hog_openface_feature_path)"
   ]
  },
  {
   "cell_type": "code",
   "execution_count": 35,
   "metadata": {},
   "outputs": [],
   "source": [
    "# Face label to index\n",
    "count=0\n",
    "label_2_idx = {}\n",
    "label_idx_list = []\n",
    "for i in list_label:\n",
    "    if i not in label_2_idx:\n",
    "        label_2_idx[i]=count\n",
    "        count+=1\n",
    "    label_idx_list.append(label_2_idx[i])"
   ]
  },
  {
   "cell_type": "code",
   "execution_count": 62,
   "metadata": {},
   "outputs": [],
   "source": [
    "label_2_idx[\"Unknown\"]=len(label_2_idx)"
   ]
  },
  {
   "cell_type": "code",
   "execution_count": 38,
   "metadata": {},
   "outputs": [],
   "source": [
    "x_train, x_test, y_train, y_test = train_test_split(list_feature, label_idx_list, test_size=0.33,\n",
    "                                                    random_state=4, stratify=label_idx_list)"
   ]
  },
  {
   "cell_type": "code",
   "execution_count": 41,
   "metadata": {},
   "outputs": [],
   "source": [
    "y_test+=[label_2_idx[\"Unknown\"]]*len(list_feature_unknown)\n",
    "x_test+=list_feature_unknown"
   ]
  },
  {
   "cell_type": "code",
   "execution_count": 47,
   "metadata": {},
   "outputs": [
    {
     "data": {
      "text/html": [
       "<style>#sk-container-id-1 {color: black;background-color: white;}#sk-container-id-1 pre{padding: 0;}#sk-container-id-1 div.sk-toggleable {background-color: white;}#sk-container-id-1 label.sk-toggleable__label {cursor: pointer;display: block;width: 100%;margin-bottom: 0;padding: 0.3em;box-sizing: border-box;text-align: center;}#sk-container-id-1 label.sk-toggleable__label-arrow:before {content: \"▸\";float: left;margin-right: 0.25em;color: #696969;}#sk-container-id-1 label.sk-toggleable__label-arrow:hover:before {color: black;}#sk-container-id-1 div.sk-estimator:hover label.sk-toggleable__label-arrow:before {color: black;}#sk-container-id-1 div.sk-toggleable__content {max-height: 0;max-width: 0;overflow: hidden;text-align: left;background-color: #f0f8ff;}#sk-container-id-1 div.sk-toggleable__content pre {margin: 0.2em;color: black;border-radius: 0.25em;background-color: #f0f8ff;}#sk-container-id-1 input.sk-toggleable__control:checked~div.sk-toggleable__content {max-height: 200px;max-width: 100%;overflow: auto;}#sk-container-id-1 input.sk-toggleable__control:checked~label.sk-toggleable__label-arrow:before {content: \"▾\";}#sk-container-id-1 div.sk-estimator input.sk-toggleable__control:checked~label.sk-toggleable__label {background-color: #d4ebff;}#sk-container-id-1 div.sk-label input.sk-toggleable__control:checked~label.sk-toggleable__label {background-color: #d4ebff;}#sk-container-id-1 input.sk-hidden--visually {border: 0;clip: rect(1px 1px 1px 1px);clip: rect(1px, 1px, 1px, 1px);height: 1px;margin: -1px;overflow: hidden;padding: 0;position: absolute;width: 1px;}#sk-container-id-1 div.sk-estimator {font-family: monospace;background-color: #f0f8ff;border: 1px dotted black;border-radius: 0.25em;box-sizing: border-box;margin-bottom: 0.5em;}#sk-container-id-1 div.sk-estimator:hover {background-color: #d4ebff;}#sk-container-id-1 div.sk-parallel-item::after {content: \"\";width: 100%;border-bottom: 1px solid gray;flex-grow: 1;}#sk-container-id-1 div.sk-label:hover label.sk-toggleable__label {background-color: #d4ebff;}#sk-container-id-1 div.sk-serial::before {content: \"\";position: absolute;border-left: 1px solid gray;box-sizing: border-box;top: 0;bottom: 0;left: 50%;z-index: 0;}#sk-container-id-1 div.sk-serial {display: flex;flex-direction: column;align-items: center;background-color: white;padding-right: 0.2em;padding-left: 0.2em;position: relative;}#sk-container-id-1 div.sk-item {position: relative;z-index: 1;}#sk-container-id-1 div.sk-parallel {display: flex;align-items: stretch;justify-content: center;background-color: white;position: relative;}#sk-container-id-1 div.sk-item::before, #sk-container-id-1 div.sk-parallel-item::before {content: \"\";position: absolute;border-left: 1px solid gray;box-sizing: border-box;top: 0;bottom: 0;left: 50%;z-index: -1;}#sk-container-id-1 div.sk-parallel-item {display: flex;flex-direction: column;z-index: 1;position: relative;background-color: white;}#sk-container-id-1 div.sk-parallel-item:first-child::after {align-self: flex-end;width: 50%;}#sk-container-id-1 div.sk-parallel-item:last-child::after {align-self: flex-start;width: 50%;}#sk-container-id-1 div.sk-parallel-item:only-child::after {width: 0;}#sk-container-id-1 div.sk-dashed-wrapped {border: 1px dashed gray;margin: 0 0.4em 0.5em 0.4em;box-sizing: border-box;padding-bottom: 0.4em;background-color: white;}#sk-container-id-1 div.sk-label label {font-family: monospace;font-weight: bold;display: inline-block;line-height: 1.2em;}#sk-container-id-1 div.sk-label-container {text-align: center;}#sk-container-id-1 div.sk-container {/* jupyter's `normalize.less` sets `[hidden] { display: none; }` but bootstrap.min.css set `[hidden] { display: none !important; }` so we also need the `!important` here to be able to override the default hidden behavior on the sphinx rendered scikit-learn.org. See: https://github.com/scikit-learn/scikit-learn/issues/21755 */display: inline-block !important;position: relative;}#sk-container-id-1 div.sk-text-repr-fallback {display: none;}</style><div id=\"sk-container-id-1\" class=\"sk-top-container\"><div class=\"sk-text-repr-fallback\"><pre>KNeighborsClassifier(n_neighbors=3, weights=&#x27;distance&#x27;)</pre><b>In a Jupyter environment, please rerun this cell to show the HTML representation or trust the notebook. <br />On GitHub, the HTML representation is unable to render, please try loading this page with nbviewer.org.</b></div><div class=\"sk-container\" hidden><div class=\"sk-item\"><div class=\"sk-estimator sk-toggleable\"><input class=\"sk-toggleable__control sk-hidden--visually\" id=\"sk-estimator-id-1\" type=\"checkbox\" checked><label for=\"sk-estimator-id-1\" class=\"sk-toggleable__label sk-toggleable__label-arrow\">KNeighborsClassifier</label><div class=\"sk-toggleable__content\"><pre>KNeighborsClassifier(n_neighbors=3, weights=&#x27;distance&#x27;)</pre></div></div></div></div></div>"
      ],
      "text/plain": [
       "KNeighborsClassifier(n_neighbors=3, weights='distance')"
      ]
     },
     "execution_count": 47,
     "metadata": {},
     "output_type": "execute_result"
    }
   ],
   "source": [
    "# Training KNN model\n",
    "param_grid = {\n",
    "        'n_neighbors': [3, 5, 7]\n",
    "        }\n",
    "clf = KNeighborsClassifier(n_neighbors = 3, weights='distance')\n",
    "clf.fit(x_train, y_train)"
   ]
  },
  {
   "cell_type": "code",
   "execution_count": 64,
   "metadata": {},
   "outputs": [
    {
     "name": "stdout",
     "output_type": "stream",
     "text": [
      "Threshold: 0.4\n",
      "Threshold: 0.45\n",
      "Threshold: 0.5\n",
      "Threshold: 0.55\n",
      "Threshold: 0.6\n",
      "Threshold: 0.65\n",
      "Threshold: 0.7\n",
      "Threshold: 0.75\n",
      "Threshold: 0.8\n",
      "Threshold: 0.85\n",
      "Threshold: 0.9\n",
      "Threshold: 0.95\n"
     ]
    }
   ],
   "source": [
    "def predict(clf, x_test, threshold):\n",
    "    predict=[]\n",
    "    for feat in x_test:\n",
    "        closest_distances = clf.kneighbors([feat], n_neighbors=1)\n",
    "        if closest_distances[0][0][0]<=threshold:\n",
    "            predict.append(clf.predict([feat])[0])\n",
    "        else:\n",
    "            predict.append(label_2_idx[\"Unknown\"])\n",
    "    return predict\n",
    "\n",
    "list_threshold = [0.4, 0.45, 0.5, 0.55, 0.6, 0.65, 0.7, 0.75, 0.8, 0.85, 0.9, 0.95]\n",
    "result = {}\n",
    "for i in list_threshold:\n",
    "    print(\"Threshold: \"+str(i))\n",
    "    result[i] = predict(clf, x_test, i)"
   ]
  },
  {
   "cell_type": "code",
   "execution_count": 65,
   "metadata": {},
   "outputs": [],
   "source": [
    "idx_2_label={y: x for x, y in label_2_idx.items()}"
   ]
  },
  {
   "cell_type": "code",
   "execution_count": 66,
   "metadata": {},
   "outputs": [],
   "source": [
    "def plot_confusion_matrix(result, threshold):\n",
    "    pred = result[threshold]\n",
    "    print(\"Accuracy score with threshold = \"+str(threshold)+\": \"+str(accuracy_score(y_test, pred)))\n",
    "    array = confusion_matrix(y_test, pred)\n",
    "    df_cm = pd.DataFrame(array, index = [idx_2_label[i] for i in range(7)], \n",
    "                        columns = [idx_2_label[i] for i in range(7)])\n",
    "    sn.heatmap(df_cm, annot=True, annot_kws={\"size\": 16}) # font size\n",
    "    plt.title(\"Confusion matrix with threshold = \"+str(threshold))\n",
    "    plt.show()"
   ]
  },
  {
   "cell_type": "code",
   "execution_count": 73,
   "metadata": {},
   "outputs": [
    {
     "name": "stdout",
     "output_type": "stream",
     "text": [
      "Accuracy score with threshold = 0.7: 0.8188405797101449\n"
     ]
    },
    {
     "data": {
      "image/png": "[encoded data removed]",
      "text/plain": [
       "<Figure size 432x288 with 2 Axes>"
      ]
     },
     "metadata": {
      "needs_background": "light"
     },
     "output_type": "display_data"
    }
   ],
   "source": [
    "plot_confusion_matrix(result, threshold=0.7)"
   ]
  }
 ],
 "metadata": {
  "kernelspec": {
   "display_name": "Python 3.9.12 ('venv': venv)",
   "language": "python",
   "name": "python3"
  },
  "language_info": {
   "codemirror_mode": {
    "name": "ipython",
    "version": 3
   },
   "file_extension": ".py",
   "mimetype": "text/x-python",
   "name": "python",
   "nbconvert_exporter": "python",
   "pygments_lexer": "ipython3",
   "version": "3.9.12"
  },
  "orig_nbformat": 4,
  "vscode": {
   "interpreter": {
    "hash": "edfc85cd6125fba325e43936d2e325e30e1e9112067751a66c5c52e50407c2e9"
   }
  }
 },
 "nbformat": 4,
 "nbformat_minor": 2
}
