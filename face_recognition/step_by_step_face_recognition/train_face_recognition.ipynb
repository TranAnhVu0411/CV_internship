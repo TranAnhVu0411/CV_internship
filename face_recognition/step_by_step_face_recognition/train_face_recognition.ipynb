{
 "cells": [
  {
   "cell_type": "code",
   "execution_count": 1,
   "metadata": {},
   "outputs": [],
   "source": [
    "from sklearn.model_selection import train_test_split\n",
    "from sklearn.metrics import accuracy_score\n",
    "from sklearn.neighbors import KNeighborsClassifier\n",
    "from sklearn.model_selection import GridSearchCV\n",
    "from sklearn import svm\n",
    "import numpy as np\n",
    "import os\n",
    "import json\n",
    "import joblib"
   ]
  },
  {
   "cell_type": "markdown",
   "metadata": {},
   "source": [
    "# Load feature vector"
   ]
  },
  {
   "cell_type": "code",
   "execution_count": 2,
   "metadata": {},
   "outputs": [],
   "source": [
    "feature_path = \"/Users/trananhvu/Documents/CV/data/feature\"\n",
    "# HOG + Openface\n",
    "hog_openface_feature_path = os.path.join(feature_path, \"hog_openface\")\n",
    "# MTCNN + Facenet\n",
    "mtcnn_facenet_feature_path = os.path.join(feature_path, \"mtcnn_facenet\")"
   ]
  },
  {
   "cell_type": "code",
   "execution_count": 3,
   "metadata": {},
   "outputs": [],
   "source": [
    "def get_feature(feature_path, feature_extraction_type):\n",
    "    list_feature = []\n",
    "    list_label = []\n",
    "    if feature_extraction_type==\"openface\":\n",
    "        size = 128\n",
    "    elif feature_extraction_type==\"facenet\":\n",
    "        size = 512\n",
    "    for i in os.listdir(feature_path):\n",
    "        if i==\".DS_Store\":\n",
    "            continue\n",
    "        for j in os.listdir(os.path.join(feature_path, i)):\n",
    "            if j==\".DS_Store\":\n",
    "                continue\n",
    "            list_label.append(i)\n",
    "            feature=np.load(os.path.join(os.path.join(feature_path, i), j))\n",
    "            list_feature.append(feature.reshape(size).tolist())\n",
    "    return list_label, list_feature"
   ]
  },
  {
   "cell_type": "code",
   "execution_count": 4,
   "metadata": {},
   "outputs": [],
   "source": [
    "list_label_hog, list_hog_openface_feature = get_feature(hog_openface_feature_path, feature_extraction_type=\"openface\")\n",
    "list_label_mtcnn, list_mtcnn_facenet_feature = get_feature(mtcnn_facenet_feature_path, feature_extraction_type=\"facenet\")"
   ]
  },
  {
   "cell_type": "markdown",
   "metadata": {},
   "source": [
    "# Prepare for training"
   ]
  },
  {
   "cell_type": "code",
   "execution_count": 5,
   "metadata": {},
   "outputs": [],
   "source": [
    "# Face label to index\n",
    "count=0\n",
    "face_2_idx = {}\n",
    "face_hog_idx_list = []\n",
    "face_mtcnn_idx_list = []\n",
    "for i in list_label_hog:\n",
    "    if i not in face_2_idx:\n",
    "        face_2_idx[i]=count\n",
    "        count+=1\n",
    "    face_hog_idx_list.append(face_2_idx[i])\n",
    "for i in list_label_mtcnn:\n",
    "    face_mtcnn_idx_list.append(face_2_idx[i])"
   ]
  },
  {
   "cell_type": "code",
   "execution_count": 6,
   "metadata": {},
   "outputs": [
    {
     "data": {
      "text/plain": [
       "{'Robert Downey Jr': 0,\n",
       " 'Chris Evans': 1,\n",
       " 'Mark Ruffalo': 2,\n",
       " 'Chris Hemsworth': 3,\n",
       " 'Scarlett Johansson': 4,\n",
       " 'Unknown': 5,\n",
       " 'Tom Holland': 6}"
      ]
     },
     "execution_count": 6,
     "metadata": {},
     "output_type": "execute_result"
    }
   ],
   "source": [
    "face_2_idx"
   ]
  },
  {
   "cell_type": "code",
   "execution_count": 7,
   "metadata": {},
   "outputs": [],
   "source": [
    "model_path = \"/Users/trananhvu/Documents/CV/CV_internship/face_recognition/step_by_step_face_recognition/model\"\n",
    "svm_model_hog_openface_path = os.path.join(model_path, \"hog_openface_svm_model.sav\")\n",
    "svm_model_mtcnn_facenet_path = os.path.join(model_path, \"mtcnn_facenet_svm_model.sav\")\n",
    "knn_model_hog_openface_path = os.path.join(model_path, \"hog_openface_knn_model.sav\")\n",
    "knn_model_mtcnn_facenet_path = os.path.join(model_path, \"mtcnn_facenet_knn_model.sav\")"
   ]
  },
  {
   "cell_type": "code",
   "execution_count": 8,
   "metadata": {},
   "outputs": [],
   "source": [
    "with open(os.path.join(model_path, \"face2idx.json\"), \"w\") as outfile:\n",
    "    json.dump(face_2_idx, outfile)"
   ]
  },
  {
   "cell_type": "markdown",
   "metadata": {},
   "source": [
    "# Face recognition"
   ]
  },
  {
   "cell_type": "markdown",
   "metadata": {},
   "source": [
    "## SVM"
   ]
  },
  {
   "cell_type": "markdown",
   "metadata": {},
   "source": [
    "### HOG + Openface "
   ]
  },
  {
   "cell_type": "code",
   "execution_count": 9,
   "metadata": {},
   "outputs": [
    {
     "name": "stdout",
     "output_type": "stream",
     "text": [
      "Fitting the classifier to the training set\n",
      "Best estimator found by grid search:\n",
      "SVC(C=10000.0, class_weight='balanced', gamma=0.0001)\n"
     ]
    },
    {
     "data": {
      "text/plain": [
       "['/Users/trananhvu/Documents/CV/CV_internship/face_recognition/step_by_step_face_recognition/model/hog_openface_svm_model.sav']"
      ]
     },
     "execution_count": 9,
     "metadata": {},
     "output_type": "execute_result"
    }
   ],
   "source": [
    "# Train test split\n",
    "x_train, x_test, y_train, y_test = train_test_split(list_hog_openface_feature, face_hog_idx_list, test_size=0.33,\n",
    "                                                    random_state=4, stratify=face_hog_idx_list)\n",
    "# Training SVM model\n",
    "print(\"Fitting the classifier to the training set\")\n",
    "param_grid = {\n",
    "         'C': [1e3, 5e3, 1e4, 5e4, 1e5],\n",
    "          'gamma': [0.0001, 0.0005, 0.001, 0.005, 0.01, 0.1],\n",
    "          }\n",
    "clf = GridSearchCV(svm.SVC(kernel='rbf', class_weight='balanced'), param_grid)\n",
    "clf = clf.fit(x_train, y_train)\n",
    "print(\"Best estimator found by grid search:\")\n",
    "print(clf.best_estimator_)\n",
    "# Save model\n",
    "joblib.dump(clf, svm_model_hog_openface_path)"
   ]
  },
  {
   "cell_type": "code",
   "execution_count": 10,
   "metadata": {},
   "outputs": [
    {
     "name": "stdout",
     "output_type": "stream",
     "text": [
      "HOG + Openface + SVM accuracy: \n"
     ]
    },
    {
     "data": {
      "text/plain": [
       "0.892271662763466"
      ]
     },
     "execution_count": 10,
     "metadata": {},
     "output_type": "execute_result"
    }
   ],
   "source": [
    "print(\"HOG + Openface + SVM accuracy: \")\n",
    "y_pred = clf.predict(x_test)\n",
    "accuracy_score(y_test, y_pred)"
   ]
  },
  {
   "cell_type": "markdown",
   "metadata": {},
   "source": [
    "### MTCNN + Facenet "
   ]
  },
  {
   "cell_type": "code",
   "execution_count": 11,
   "metadata": {},
   "outputs": [
    {
     "name": "stdout",
     "output_type": "stream",
     "text": [
      "Fitting the classifier to the training set\n",
      "Best estimator found by grid search:\n",
      "SVC(C=1000.0, class_weight='balanced', gamma=0.1)\n"
     ]
    },
    {
     "data": {
      "text/plain": [
       "['/Users/trananhvu/Documents/CV/CV_internship/face_recognition/step_by_step_face_recognition/model/mtcnn_facenet_svm_model.sav']"
      ]
     },
     "execution_count": 11,
     "metadata": {},
     "output_type": "execute_result"
    }
   ],
   "source": [
    "# Train test split\n",
    "x_train, x_test, y_train, y_test = train_test_split(list_mtcnn_facenet_feature, face_mtcnn_idx_list, test_size=0.33,\n",
    "                                                    random_state=4, stratify=face_mtcnn_idx_list)\n",
    "# Training SVM model\n",
    "print(\"Fitting the classifier to the training set\")\n",
    "param_grid = {\n",
    "         'C': [1e3, 5e3, 1e4, 5e4, 1e5],\n",
    "          'gamma': [0.0001, 0.0005, 0.001, 0.005, 0.01, 0.1],\n",
    "          }\n",
    "clf = GridSearchCV(svm.SVC(kernel='rbf', class_weight='balanced'), param_grid)\n",
    "clf = clf.fit(x_train, y_train)\n",
    "print(\"Best estimator found by grid search:\")\n",
    "print(clf.best_estimator_)\n",
    "# Save model\n",
    "joblib.dump(clf, svm_model_mtcnn_facenet_path)"
   ]
  },
  {
   "cell_type": "code",
   "execution_count": 12,
   "metadata": {},
   "outputs": [
    {
     "name": "stdout",
     "output_type": "stream",
     "text": [
      "MTCNN + Facenet + SVM accuracy: \n"
     ]
    },
    {
     "data": {
      "text/plain": [
       "0.9902439024390244"
      ]
     },
     "execution_count": 12,
     "metadata": {},
     "output_type": "execute_result"
    }
   ],
   "source": [
    "print(\"MTCNN + Facenet + SVM accuracy: \")\n",
    "y_pred_svm = clf.predict(x_test)\n",
    "accuracy_score(y_test, y_pred_svm)"
   ]
  },
  {
   "cell_type": "markdown",
   "metadata": {},
   "source": [
    "## KNN"
   ]
  },
  {
   "cell_type": "markdown",
   "metadata": {},
   "source": [
    "### HOG + Openface "
   ]
  },
  {
   "cell_type": "code",
   "execution_count": 13,
   "metadata": {},
   "outputs": [
    {
     "name": "stdout",
     "output_type": "stream",
     "text": [
      "Best estimator found by grid search:\n",
      "KNeighborsClassifier(n_neighbors=3)\n"
     ]
    },
    {
     "data": {
      "text/plain": [
       "['/Users/trananhvu/Documents/CV/CV_internship/face_recognition/step_by_step_face_recognition/model/hog_openface_knn_model.sav']"
      ]
     },
     "execution_count": 13,
     "metadata": {},
     "output_type": "execute_result"
    }
   ],
   "source": [
    "# Train test split\n",
    "x_train, x_test, y_train, y_test = train_test_split(list_hog_openface_feature, face_hog_idx_list, test_size=0.33,\n",
    "                                                    random_state=4, stratify=face_hog_idx_list)\n",
    "# Training KNN model\n",
    "param_grid = {\n",
    "        'n_neighbors': [3, 5, 7]\n",
    "        }\n",
    "clf = GridSearchCV(KNeighborsClassifier(), param_grid)\n",
    "clf.fit(x_train, y_train)\n",
    "print(\"Best estimator found by grid search:\")\n",
    "print(clf.best_estimator_)\n",
    "# Save model\n",
    "joblib.dump(clf, knn_model_hog_openface_path)"
   ]
  },
  {
   "cell_type": "code",
   "execution_count": 14,
   "metadata": {},
   "outputs": [
    {
     "name": "stdout",
     "output_type": "stream",
     "text": [
      "HOG + Openface + KNN accuracy: \n"
     ]
    },
    {
     "data": {
      "text/plain": [
       "0.8946135831381733"
      ]
     },
     "execution_count": 14,
     "metadata": {},
     "output_type": "execute_result"
    }
   ],
   "source": [
    "print(\"HOG + Openface + KNN accuracy: \")\n",
    "y_pred = clf.predict(x_test)\n",
    "accuracy_score(y_test, y_pred)"
   ]
  },
  {
   "cell_type": "markdown",
   "metadata": {},
   "source": [
    "### MTCNN + Facenet"
   ]
  },
  {
   "cell_type": "code",
   "execution_count": 15,
   "metadata": {},
   "outputs": [
    {
     "name": "stdout",
     "output_type": "stream",
     "text": [
      "Best estimator found by grid search:\n",
      "KNeighborsClassifier(n_neighbors=3)\n"
     ]
    },
    {
     "data": {
      "text/plain": [
       "['/Users/trananhvu/Documents/CV/CV_internship/face_recognition/step_by_step_face_recognition/model/mtcnn_facenet_knn_model.sav']"
      ]
     },
     "execution_count": 15,
     "metadata": {},
     "output_type": "execute_result"
    }
   ],
   "source": [
    "# Train test split\n",
    "x_train, x_test, y_train, y_test = train_test_split(list_mtcnn_facenet_feature, face_mtcnn_idx_list, test_size=0.33,\n",
    "                                                    random_state=4, stratify=face_mtcnn_idx_list)\n",
    "# Training KNN model\n",
    "param_grid = {\n",
    "        'n_neighbors': [3, 5, 7]\n",
    "        }\n",
    "clf = GridSearchCV(KNeighborsClassifier(), param_grid)\n",
    "clf.fit(x_train, y_train)\n",
    "print(\"Best estimator found by grid search:\")\n",
    "print(clf.best_estimator_)\n",
    "# Save model\n",
    "joblib.dump(clf, knn_model_mtcnn_facenet_path)"
   ]
  },
  {
   "cell_type": "code",
   "execution_count": 16,
   "metadata": {},
   "outputs": [
    {
     "name": "stdout",
     "output_type": "stream",
     "text": [
      "MTCNN + Facenet + KNN accuracy: \n"
     ]
    },
    {
     "data": {
      "text/plain": [
       "0.9780487804878049"
      ]
     },
     "execution_count": 16,
     "metadata": {},
     "output_type": "execute_result"
    }
   ],
   "source": [
    "print(\"MTCNN + Facenet + KNN accuracy: \")\n",
    "y_pred = clf.predict(x_test)\n",
    "accuracy_score(y_test, y_pred)"
   ]
  }
 ],
 "metadata": {
  "kernelspec": {
   "display_name": "Python 3.9.12 ('venv': venv)",
   "language": "python",
   "name": "python3"
  },
  "language_info": {
   "codemirror_mode": {
    "name": "ipython",
    "version": 3
   },
   "file_extension": ".py",
   "mimetype": "text/x-python",
   "name": "python",
   "nbconvert_exporter": "python",
   "pygments_lexer": "ipython3",
   "version": "3.9.12"
  },
  "orig_nbformat": 4,
  "vscode": {
   "interpreter": {
    "hash": "edfc85cd6125fba325e43936d2e325e30e1e9112067751a66c5c52e50407c2e9"
   }
  }
 },
 "nbformat": 4,
 "nbformat_minor": 2
}
