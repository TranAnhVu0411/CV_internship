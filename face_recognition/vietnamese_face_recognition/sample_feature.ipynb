{
 "cells": [
  {
   "cell_type": "code",
   "execution_count": 2,
   "metadata": {},
   "outputs": [],
   "source": [
    "import numpy as np\n",
    "import os\n",
    "import json\n",
    "import random\n",
    "import shutil\n",
    "import pathlib\n",
    "import create_directory"
   ]
  },
  {
   "cell_type": "markdown",
   "metadata": {},
   "source": [
    "# Khảo sát dữ liệu"
   ]
  },
  {
   "cell_type": "code",
   "execution_count": 2,
   "metadata": {},
   "outputs": [],
   "source": [
    "feature_path = os.path.join(create_directory.vn_data_dir, \"feature\")\n",
    "num_feature_label_dict = {}\n",
    "for i in os.listdir(feature_path):\n",
    "    if i!=\".DS_Store\":\n",
    "        num_feature_label_dict[i] = len(os.listdir(os.path.join(feature_path, i)))"
   ]
  },
  {
   "cell_type": "code",
   "execution_count": 3,
   "metadata": {},
   "outputs": [
    {
     "data": {
      "text/plain": [
       "710"
      ]
     },
     "execution_count": 3,
     "metadata": {},
     "output_type": "execute_result"
    }
   ],
   "source": [
    "count=0\n",
    "for label, num in num_feature_label_dict.items():\n",
    "    if num>8:\n",
    "        count+=1\n",
    "count"
   ]
  },
  {
   "cell_type": "markdown",
   "metadata": {},
   "source": [
    "Những nhãn nào có số feature vector > 8 ta sẽ giữ nhãn lại, còn lại ta sẽ chuyển thành unknown"
   ]
  },
  {
   "cell_type": "code",
   "execution_count": 3,
   "metadata": {},
   "outputs": [],
   "source": [
    "def copy_file(source_path, target_path, label_count):\n",
    "    for i in os.listdir(source_path):\n",
    "        if i!=\".DS_Store\":\n",
    "            source_label_path = os.path.join(source_path, str(i))\n",
    "            if label_count[i]>8:\n",
    "                target_label_path = os.path.join(target_path, str(i))\n",
    "                if not os.path.exists(target_label_path):\n",
    "                    os.makedirs(target_label_path)\n",
    "                for j in os.listdir(source_label_path):\n",
    "                    if j!=\".DS_Store\":\n",
    "                        shutil.copyfile(os.path.join(source_label_path, j), os.path.join(target_label_path, j))\n",
    "            else:\n",
    "                target_label_path = os.path.join(target_path, \"Unknown\")\n",
    "                if not os.path.exists(target_label_path):\n",
    "                    os.makedirs(target_label_path)\n",
    "                for j in os.listdir(source_label_path):\n",
    "                    if j!=\".DS_Store\":\n",
    "                        j_preprocess = pathlib.Path(j).stem+\"_\"+str(i)+pathlib.Path(j).suffix\n",
    "                        shutil.copyfile(os.path.join(source_label_path, j), os.path.join(target_label_path, j_preprocess))"
   ]
  },
  {
   "cell_type": "code",
   "execution_count": 5,
   "metadata": {},
   "outputs": [],
   "source": [
    "sample_feature_path = os.path.join(create_directory.vn_data_dir, \"sample_feature\")\n",
    "if not os.path.exists(sample_feature_path):\n",
    "    os.makedirs(sample_feature_path)\n",
    "copy_file(feature_path, sample_feature_path, num_feature_label_dict)"
   ]
  },
  {
   "cell_type": "markdown",
   "metadata": {},
   "source": [
    "# Tạo dữ liệu feature sample"
   ]
  },
  {
   "cell_type": "code",
   "execution_count": 25,
   "metadata": {},
   "outputs": [],
   "source": [
    "# Face Database\n",
    "sample_feature_path = os.path.join(create_directory.vn_data_dir, \"sample_feature\")\n",
    "count = 0\n",
    "train_label_idx = []\n",
    "train_feature = []\n",
    "test_label_idx = []\n",
    "test_feature = []\n",
    "label2idx = {}\n",
    "for i in os.listdir(sample_feature_path):\n",
    "    if i == \".DS_Store\":\n",
    "        continue\n",
    "    # Ta bỏ qua tất cả các data có nhãn Unknown\n",
    "    if i == \"Unknown\":\n",
    "        continue\n",
    "    label2idx[i]=count\n",
    "    list_path = os.listdir(os.path.join(sample_feature_path, i))\n",
    "    # Trộn thứ tự các feature vector\n",
    "    random.shuffle(list_path)\n",
    "    count2 = 0\n",
    "    for j in list_path:\n",
    "        if j == \".DS_Store\":\n",
    "            continue\n",
    "        # Ta chỉ lấy 8 ảnh đầu ngẫu nhiên làm tập cơ sở, còn những ảnh còn lại cho vào test\n",
    "        feat=np.load(os.path.join(os.path.join(sample_feature_path, i), j))\n",
    "        if count2<8:\n",
    "            train_feature.append(feat.reshape(128).tolist()) \n",
    "            train_label_idx.append(count)\n",
    "            count2+=1\n",
    "        else:\n",
    "            test_feature.append(feat.reshape(128).tolist()) \n",
    "            test_label_idx.append(count)\n",
    "    count+=1"
   ]
  },
  {
   "cell_type": "code",
   "execution_count": 26,
   "metadata": {},
   "outputs": [],
   "source": [
    "label2idx[\"Unknown\"]=len(label2idx)\n",
    "with open(os.path.join(create_directory.vn_data_dir, \"label2idx.json\"), \"w\") as outfile:\n",
    "    json.dump(label2idx, outfile)"
   ]
  },
  {
   "cell_type": "code",
   "execution_count": 27,
   "metadata": {},
   "outputs": [],
   "source": [
    "# Ta lấy 60 ảnh unknown bất kì\n",
    "unknown_list_path = os.listdir(os.path.join(sample_feature_path, \"Unknown\"))\n",
    "random.shuffle(unknown_list_path)\n",
    "for idx, i in enumerate(unknown_list_path):\n",
    "    if i!=\".DS_Store\":\n",
    "        if idx>=60:\n",
    "            break\n",
    "        feat=np.load(os.path.join(os.path.join(sample_feature_path, \"Unknown\"), i))\n",
    "        test_feature.append(feat.reshape(128).tolist()) \n",
    "        test_label_idx.append(label2idx[\"Unknown\"])"
   ]
  },
  {
   "cell_type": "code",
   "execution_count": 28,
   "metadata": {},
   "outputs": [],
   "source": [
    "fixed_threshold_path = os.path.join(create_directory.vn_data_dir, \"fixed_threshold\")\n",
    "if not os.path.exists(fixed_threshold_path):\n",
    "    os.makedirs(sample_feature_path)\n",
    "with open(os.path.join(fixed_threshold_path, 'train_feature.json'), 'w') as f:\n",
    "    json.dump(train_feature, f)\n",
    "with open(os.path.join(fixed_threshold_path, 'test_feature.json'), 'w') as f:\n",
    "    json.dump(test_feature, f)\n",
    "with open(os.path.join(fixed_threshold_path, 'train_label_idx.json'), 'w') as f:\n",
    "    json.dump(train_label_idx, f)\n",
    "with open(os.path.join(fixed_threshold_path, 'test_label_idx.json'), 'w') as f:\n",
    "    json.dump(test_label_idx, f)"
   ]
  }
 ],
 "metadata": {
  "kernelspec": {
   "display_name": "Python 3.9.12 ('venv': venv)",
   "language": "python",
   "name": "python3"
  },
  "language_info": {
   "codemirror_mode": {
    "name": "ipython",
    "version": 3
   },
   "file_extension": ".py",
   "mimetype": "text/x-python",
   "name": "python",
   "nbconvert_exporter": "python",
   "pygments_lexer": "ipython3",
   "version": "3.9.12"
  },
  "orig_nbformat": 4,
  "vscode": {
   "interpreter": {
    "hash": "edfc85cd6125fba325e43936d2e325e30e1e9112067751a66c5c52e50407c2e9"
   }
  }
 },
 "nbformat": 4,
 "nbformat_minor": 2
}
